{
 "cells": [
  {
   "cell_type": "code",
   "execution_count": 1,
   "metadata": {},
   "outputs": [],
   "source": [
    "import numpy as np\n",
    "import pandas as pd\n",
    "import matplotlib.pyplot as plt\n",
    "import seaborn as sns\n",
    "import plotly.express as px\n",
    "\n",
    "from sklearn.compose import ColumnTransformer\n",
    "from sklearn.preprocessing import OneHotEncoder, StandardScaler\n",
    "from sklearn.impute import SimpleImputer\n",
    "from sklearn.pipeline import Pipeline\n",
    "from sklearn.model_selection import train_test_split\n",
    "from sklearn.model_selection import RandomizedSearchCV\n",
    "from scipy.stats import uniform\n",
    "from sklearn.base import BaseEstimator\n",
    "from sklearn.linear_model import LinearRegression, SGDRegressor, Ridge\n",
    "from sklearn. metrics import mean_squared_error, mean_absolute_error, r2_score, mean_squared_log_error\n",
    "%matplotlib inline"
   ]
  },
  {
   "cell_type": "code",
   "execution_count": 2,
   "metadata": {},
   "outputs": [],
   "source": [
    "df = pd.read_csv('day.csv')"
   ]
  },
  {
   "cell_type": "code",
   "execution_count": 3,
   "metadata": {},
   "outputs": [
    {
     "name": "stdout",
     "output_type": "stream",
     "text": [
      "<class 'pandas.core.frame.DataFrame'>\n",
      "RangeIndex: 730 entries, 0 to 729\n",
      "Data columns (total 16 columns):\n",
      " #   Column      Non-Null Count  Dtype  \n",
      "---  ------      --------------  -----  \n",
      " 0   instant     730 non-null    int64  \n",
      " 1   dteday      730 non-null    object \n",
      " 2   season      730 non-null    int64  \n",
      " 3   yr          730 non-null    int64  \n",
      " 4   mnth        730 non-null    int64  \n",
      " 5   holiday     730 non-null    int64  \n",
      " 6   weekday     730 non-null    int64  \n",
      " 7   workingday  730 non-null    int64  \n",
      " 8   weathersit  730 non-null    int64  \n",
      " 9   temp        730 non-null    float64\n",
      " 10  atemp       730 non-null    float64\n",
      " 11  hum         730 non-null    float64\n",
      " 12  windspeed   730 non-null    float64\n",
      " 13  casual      730 non-null    int64  \n",
      " 14  registered  730 non-null    int64  \n",
      " 15  cnt         730 non-null    int64  \n",
      "dtypes: float64(4), int64(11), object(1)\n",
      "memory usage: 91.4+ KB\n"
     ]
    }
   ],
   "source": [
    "df.info()"
   ]
  },
  {
   "cell_type": "code",
   "execution_count": 4,
   "metadata": {},
   "outputs": [
    {
     "data": {
      "text/html": [
       "<div>\n",
       "<style scoped>\n",
       "    .dataframe tbody tr th:only-of-type {\n",
       "        vertical-align: middle;\n",
       "    }\n",
       "\n",
       "    .dataframe tbody tr th {\n",
       "        vertical-align: top;\n",
       "    }\n",
       "\n",
       "    .dataframe thead th {\n",
       "        text-align: right;\n",
       "    }\n",
       "</style>\n",
       "<table border=\"1\" class=\"dataframe\">\n",
       "  <thead>\n",
       "    <tr style=\"text-align: right;\">\n",
       "      <th></th>\n",
       "      <th>instant</th>\n",
       "      <th>dteday</th>\n",
       "      <th>season</th>\n",
       "      <th>yr</th>\n",
       "      <th>mnth</th>\n",
       "      <th>holiday</th>\n",
       "      <th>weekday</th>\n",
       "      <th>workingday</th>\n",
       "      <th>weathersit</th>\n",
       "      <th>temp</th>\n",
       "      <th>atemp</th>\n",
       "      <th>hum</th>\n",
       "      <th>windspeed</th>\n",
       "      <th>casual</th>\n",
       "      <th>registered</th>\n",
       "      <th>cnt</th>\n",
       "    </tr>\n",
       "  </thead>\n",
       "  <tbody>\n",
       "    <tr>\n",
       "      <th>0</th>\n",
       "      <td>1</td>\n",
       "      <td>01-01-2018</td>\n",
       "      <td>1</td>\n",
       "      <td>0</td>\n",
       "      <td>1</td>\n",
       "      <td>0</td>\n",
       "      <td>6</td>\n",
       "      <td>0</td>\n",
       "      <td>2</td>\n",
       "      <td>14.110847</td>\n",
       "      <td>18.18125</td>\n",
       "      <td>80.5833</td>\n",
       "      <td>10.749882</td>\n",
       "      <td>331</td>\n",
       "      <td>654</td>\n",
       "      <td>985</td>\n",
       "    </tr>\n",
       "    <tr>\n",
       "      <th>1</th>\n",
       "      <td>2</td>\n",
       "      <td>02-01-2018</td>\n",
       "      <td>1</td>\n",
       "      <td>0</td>\n",
       "      <td>1</td>\n",
       "      <td>0</td>\n",
       "      <td>0</td>\n",
       "      <td>0</td>\n",
       "      <td>2</td>\n",
       "      <td>14.902598</td>\n",
       "      <td>17.68695</td>\n",
       "      <td>69.6087</td>\n",
       "      <td>16.652113</td>\n",
       "      <td>131</td>\n",
       "      <td>670</td>\n",
       "      <td>801</td>\n",
       "    </tr>\n",
       "    <tr>\n",
       "      <th>2</th>\n",
       "      <td>3</td>\n",
       "      <td>03-01-2018</td>\n",
       "      <td>1</td>\n",
       "      <td>0</td>\n",
       "      <td>1</td>\n",
       "      <td>0</td>\n",
       "      <td>1</td>\n",
       "      <td>1</td>\n",
       "      <td>1</td>\n",
       "      <td>8.050924</td>\n",
       "      <td>9.47025</td>\n",
       "      <td>43.7273</td>\n",
       "      <td>16.636703</td>\n",
       "      <td>120</td>\n",
       "      <td>1229</td>\n",
       "      <td>1349</td>\n",
       "    </tr>\n",
       "    <tr>\n",
       "      <th>3</th>\n",
       "      <td>4</td>\n",
       "      <td>04-01-2018</td>\n",
       "      <td>1</td>\n",
       "      <td>0</td>\n",
       "      <td>1</td>\n",
       "      <td>0</td>\n",
       "      <td>2</td>\n",
       "      <td>1</td>\n",
       "      <td>1</td>\n",
       "      <td>8.200000</td>\n",
       "      <td>10.60610</td>\n",
       "      <td>59.0435</td>\n",
       "      <td>10.739832</td>\n",
       "      <td>108</td>\n",
       "      <td>1454</td>\n",
       "      <td>1562</td>\n",
       "    </tr>\n",
       "    <tr>\n",
       "      <th>4</th>\n",
       "      <td>5</td>\n",
       "      <td>05-01-2018</td>\n",
       "      <td>1</td>\n",
       "      <td>0</td>\n",
       "      <td>1</td>\n",
       "      <td>0</td>\n",
       "      <td>3</td>\n",
       "      <td>1</td>\n",
       "      <td>1</td>\n",
       "      <td>9.305237</td>\n",
       "      <td>11.46350</td>\n",
       "      <td>43.6957</td>\n",
       "      <td>12.522300</td>\n",
       "      <td>82</td>\n",
       "      <td>1518</td>\n",
       "      <td>1600</td>\n",
       "    </tr>\n",
       "  </tbody>\n",
       "</table>\n",
       "</div>"
      ],
      "text/plain": [
       "   instant      dteday  season  yr  mnth  holiday  weekday  workingday   \n",
       "0        1  01-01-2018       1   0     1        0        6           0  \\\n",
       "1        2  02-01-2018       1   0     1        0        0           0   \n",
       "2        3  03-01-2018       1   0     1        0        1           1   \n",
       "3        4  04-01-2018       1   0     1        0        2           1   \n",
       "4        5  05-01-2018       1   0     1        0        3           1   \n",
       "\n",
       "   weathersit       temp     atemp      hum  windspeed  casual  registered   \n",
       "0           2  14.110847  18.18125  80.5833  10.749882     331         654  \\\n",
       "1           2  14.902598  17.68695  69.6087  16.652113     131         670   \n",
       "2           1   8.050924   9.47025  43.7273  16.636703     120        1229   \n",
       "3           1   8.200000  10.60610  59.0435  10.739832     108        1454   \n",
       "4           1   9.305237  11.46350  43.6957  12.522300      82        1518   \n",
       "\n",
       "    cnt  \n",
       "0   985  \n",
       "1   801  \n",
       "2  1349  \n",
       "3  1562  \n",
       "4  1600  "
      ]
     },
     "execution_count": 4,
     "metadata": {},
     "output_type": "execute_result"
    }
   ],
   "source": [
    "df.head()"
   ]
  },
  {
   "cell_type": "code",
   "execution_count": 5,
   "metadata": {},
   "outputs": [
    {
     "data": {
      "text/plain": [
       "(730, 12)"
      ]
     },
     "execution_count": 5,
     "metadata": {},
     "output_type": "execute_result"
    }
   ],
   "source": [
    "df = df.drop([\"instant\", \"dteday\", \"registered\", \"casual\"], axis=1)\n",
    "df.drop_duplicates(inplace=True)\n",
    "df.season = df.season.map({1: 'spring', 2: 'summer', 3: 'fall', 4: 'winter'})\n",
    "df.mnth = df.mnth.map({1: 'jan', 2: 'feb', 3: 'mar', 4: 'apr', 5: 'may', 6: 'june', \n",
    "                         7: 'july', 8: 'aug', 9: 'sep', 10: 'oct', 11: 'nov', 12: 'dec'})\n",
    "df.weekday = df.weekday.map({0: 'sun', 1: 'mon', 2: 'tue', 3: 'wed', 4: 'thu', 5: 'fri', 6: 'sat'})\n",
    "df.weathersit = df.weathersit.map({1: 'clear', 2: 'misty', 3: 'light_snowrain', 4: 'heavy_snowrain'})\n",
    "df.shape"
   ]
  },
  {
   "cell_type": "code",
   "execution_count": 6,
   "metadata": {},
   "outputs": [
    {
     "data": {
      "text/html": [
       "<div>\n",
       "<style scoped>\n",
       "    .dataframe tbody tr th:only-of-type {\n",
       "        vertical-align: middle;\n",
       "    }\n",
       "\n",
       "    .dataframe tbody tr th {\n",
       "        vertical-align: top;\n",
       "    }\n",
       "\n",
       "    .dataframe thead th {\n",
       "        text-align: right;\n",
       "    }\n",
       "</style>\n",
       "<table border=\"1\" class=\"dataframe\">\n",
       "  <thead>\n",
       "    <tr style=\"text-align: right;\">\n",
       "      <th></th>\n",
       "      <th>season</th>\n",
       "      <th>yr</th>\n",
       "      <th>mnth</th>\n",
       "      <th>holiday</th>\n",
       "      <th>weekday</th>\n",
       "      <th>workingday</th>\n",
       "      <th>weathersit</th>\n",
       "      <th>temp</th>\n",
       "      <th>atemp</th>\n",
       "      <th>hum</th>\n",
       "      <th>windspeed</th>\n",
       "      <th>cnt</th>\n",
       "    </tr>\n",
       "  </thead>\n",
       "  <tbody>\n",
       "    <tr>\n",
       "      <th>0</th>\n",
       "      <td>spring</td>\n",
       "      <td>0</td>\n",
       "      <td>jan</td>\n",
       "      <td>0</td>\n",
       "      <td>sat</td>\n",
       "      <td>0</td>\n",
       "      <td>misty</td>\n",
       "      <td>14.110847</td>\n",
       "      <td>18.18125</td>\n",
       "      <td>80.5833</td>\n",
       "      <td>10.749882</td>\n",
       "      <td>985</td>\n",
       "    </tr>\n",
       "    <tr>\n",
       "      <th>1</th>\n",
       "      <td>spring</td>\n",
       "      <td>0</td>\n",
       "      <td>jan</td>\n",
       "      <td>0</td>\n",
       "      <td>sun</td>\n",
       "      <td>0</td>\n",
       "      <td>misty</td>\n",
       "      <td>14.902598</td>\n",
       "      <td>17.68695</td>\n",
       "      <td>69.6087</td>\n",
       "      <td>16.652113</td>\n",
       "      <td>801</td>\n",
       "    </tr>\n",
       "    <tr>\n",
       "      <th>2</th>\n",
       "      <td>spring</td>\n",
       "      <td>0</td>\n",
       "      <td>jan</td>\n",
       "      <td>0</td>\n",
       "      <td>mon</td>\n",
       "      <td>1</td>\n",
       "      <td>clear</td>\n",
       "      <td>8.050924</td>\n",
       "      <td>9.47025</td>\n",
       "      <td>43.7273</td>\n",
       "      <td>16.636703</td>\n",
       "      <td>1349</td>\n",
       "    </tr>\n",
       "    <tr>\n",
       "      <th>3</th>\n",
       "      <td>spring</td>\n",
       "      <td>0</td>\n",
       "      <td>jan</td>\n",
       "      <td>0</td>\n",
       "      <td>tue</td>\n",
       "      <td>1</td>\n",
       "      <td>clear</td>\n",
       "      <td>8.200000</td>\n",
       "      <td>10.60610</td>\n",
       "      <td>59.0435</td>\n",
       "      <td>10.739832</td>\n",
       "      <td>1562</td>\n",
       "    </tr>\n",
       "    <tr>\n",
       "      <th>4</th>\n",
       "      <td>spring</td>\n",
       "      <td>0</td>\n",
       "      <td>jan</td>\n",
       "      <td>0</td>\n",
       "      <td>wed</td>\n",
       "      <td>1</td>\n",
       "      <td>clear</td>\n",
       "      <td>9.305237</td>\n",
       "      <td>11.46350</td>\n",
       "      <td>43.6957</td>\n",
       "      <td>12.522300</td>\n",
       "      <td>1600</td>\n",
       "    </tr>\n",
       "  </tbody>\n",
       "</table>\n",
       "</div>"
      ],
      "text/plain": [
       "   season  yr mnth  holiday weekday  workingday weathersit       temp   \n",
       "0  spring   0  jan        0     sat           0      misty  14.110847  \\\n",
       "1  spring   0  jan        0     sun           0      misty  14.902598   \n",
       "2  spring   0  jan        0     mon           1      clear   8.050924   \n",
       "3  spring   0  jan        0     tue           1      clear   8.200000   \n",
       "4  spring   0  jan        0     wed           1      clear   9.305237   \n",
       "\n",
       "      atemp      hum  windspeed   cnt  \n",
       "0  18.18125  80.5833  10.749882   985  \n",
       "1  17.68695  69.6087  16.652113   801  \n",
       "2   9.47025  43.7273  16.636703  1349  \n",
       "3  10.60610  59.0435  10.739832  1562  \n",
       "4  11.46350  43.6957  12.522300  1600  "
      ]
     },
     "execution_count": 6,
     "metadata": {},
     "output_type": "execute_result"
    }
   ],
   "source": [
    "df.head()"
   ]
  },
  {
   "cell_type": "code",
   "execution_count": 7,
   "metadata": {},
   "outputs": [],
   "source": [
    "cols = [\"season\", \"yr\", \"mnth\", \"holiday\", \"weekday\", \"workingday\", \"weathersit\", \"temp\", \"atemp\", \"hum\", \"windspeed\", \"cnt\"]\n",
    "\n",
    "cols_sub_target = [\"season\", \"yr\", \"mnth\", \"holiday\", \"weekday\", \"workingday\", \"weathersit\", \"temp\", \"atemp\", \"hum\", \"windspeed\"]\n",
    "\n",
    "num_cols = [\"temp\", \"atemp\", \"hum\", \"windspeed\"]\n",
    "cat_cols = [\"season\", \"yr\", \"mnth\", \"holiday\", \"weekday\", \"workingday\", \"weathersit\"]\n",
    "target_col = \"cnt\""
   ]
  },
  {
   "cell_type": "code",
   "execution_count": 8,
   "metadata": {},
   "outputs": [
    {
     "data": {
      "text/plain": [
       "<Axes: xlabel='cnt', ylabel='Count'>"
      ]
     },
     "execution_count": 8,
     "metadata": {},
     "output_type": "execute_result"
    },
    {
     "data": {
      "image/png": "[encoded data removed]",
      "text/plain": [
       "<Figure size 640x480 with 1 Axes>"
      ]
     },
     "metadata": {},
     "output_type": "display_data"
    }
   ],
   "source": [
    "sns.histplot(df[\"cnt\"], kde=True)"
   ]
  },
  {
   "cell_type": "code",
   "execution_count": 9,
   "metadata": {},
   "outputs": [
    {
     "data": {
      "image/png": "[encoded data removed]",
      "text/plain": [
       "<Figure size 2000x1500 with 9 Axes>"
      ]
     },
     "metadata": {},
     "output_type": "display_data"
    }
   ],
   "source": [
    "df[cols_sub_target].hist(bins=50, figsize=(20,15))\n",
    "plt.show()"
   ]
  },
  {
   "cell_type": "code",
   "execution_count": 10,
   "metadata": {},
   "outputs": [
    {
     "data": {
      "image/png": "[encoded data removed]",
      "text/plain": [
       "<Figure size 1250x1250 with 30 Axes>"
      ]
     },
     "metadata": {},
     "output_type": "display_data"
    }
   ],
   "source": [
    "sns.pairplot(df[num_cols + [target_col]], diag_kind='kde', plot_kws={'s':3})\n",
    "plt.tight_layout()\n",
    "plt.show()"
   ]
  },
  {
   "cell_type": "code",
   "execution_count": 11,
   "metadata": {},
   "outputs": [
    {
     "data": {
      "application/vnd.plotly.v1+json": {
       "config": {
        "plotlyServerURL": "https://plot.ly"
       },
       "data": [
        {
         "alignmentgroup": "True",
         "hovertemplate": "mnth=%{x}<br>cnt=%{y}<extra></extra>",
         "legendgroup": "",
         "marker": {
          "color": "#636efa",
          "pattern": {
           "shape": ""
          }
         },
         "name": "",
         "offsetgroup": "",
         "orientation": "v",
         "showlegend": false,
         "textposition": "auto",
         "type": "bar",
         "x": [
          "jan",
          "jan",
          "jan",
          "jan",
          "jan",
          "jan",
          "jan",
          "jan",
          "jan",
          "jan",
          "jan",
          "jan",
          "jan",
          "jan",
          "jan",
          "jan",
          "jan",
          "jan",
          "jan",
          "jan",
          "jan",
          "jan",
          "jan",
          "jan",
          "jan",
          "jan",
          "jan",
          "jan",
          "jan",
          "jan",
          "jan",
          "feb",
          "feb",
          "feb",
          "feb",
          "feb",
          "feb",
          "feb",
          "feb",
          "feb",
          "feb",
          "feb",
          "feb",
          "feb",
          "feb",
          "feb",
          "feb",
          "feb",
          "feb",
          "feb",
          "feb",
          "feb",
          "feb",
          "feb",
          "feb",
          "feb",
          "feb",
          "feb",
          "feb",
          "mar",
          "mar",
          "mar",
          "mar",
          "mar",
          "mar",
          "mar",
          "mar",
          "mar",
          "mar",
          "mar",
          "mar",
          "mar",
          "mar",
          "mar",
          "mar",
          "mar",
          "mar",
          "mar",
          "mar",
          "mar",
          "mar",
          "mar",
          "mar",
          "mar",
          "mar",
          "mar",
          "mar",
          "mar",
          "mar",
          "mar",
          "apr",
          "apr",
          "apr",
          "apr",
          "apr",
          "apr",
          "apr",
          "apr",
          "apr",
          "apr",
          "apr",
          "apr",
          "apr",
          "apr",
          "apr",
          "apr",
          "apr",
          "apr",
          "apr",
          "apr",
          "apr",
          "apr",
          "apr",
          "apr",
          "apr",
          "apr",
          "apr",
          "apr",
          "apr",
          "apr",
          "may",
          "may",
          "may",
          "may",
          "may",
          "may",
          "may",
          "may",
          "may",
          "may",
          "may",
          "may",
          "may",
          "may",
          "may",
          "may",
          "may",
          "may",
          "may",
          "may",
          "may",
          "may",
          "may",
          "may",
          "may",
          "may",
          "may",
          "may",
          "may",
          "may",
          "may",
          "june",
          "june",
          "june",
          "june",
          "june",
          "june",
          "june",
          "june",
          "june",
          "june",
          "june",
          "june",
          "june",
          "june",
          "june",
          "june",
          "june",
          "june",
          "june",
          "june",
          "june",
          "june",
          "june",
          "june",
          "june",
          "june",
          "june",
          "june",
          "june",
          "june",
          "july",
          "july",
          "july",
          "july",
          "july",
          "july",
          "july",
          "july",
          "july",
          "july",
          "july",
          "july",
          "july",
          "july",
          "july",
          "july",
          "july",
          "july",
          "july",
          "july",
          "july",
          "july",
          "july",
          "july",
          "july",
          "july",
          "july",
          "july",
          "july",
          "july",
          "july",
          "aug",
          "aug",
          "aug",
          "aug",
          "aug",
          "aug",
          "aug",
          "aug",
          "aug",
          "aug",
          "aug",
          "aug",
          "aug",
          "aug",
          "aug",
          "aug",
          "aug",
          "aug",
          "aug",
          "aug",
          "aug",
          "aug",
          "aug",
          "aug",
          "aug",
          "aug",
          "aug",
          "aug",
          "aug",
          "aug",
          "aug",
          "sep",
          "sep",
          "sep",
          "sep",
          "sep",
          "sep",
          "sep",
          "sep",
          "sep",
          "sep",
          "sep",
          "sep",
          "sep",
          "sep",
          "sep",
          "sep",
          "sep",
          "sep",
          "sep",
          "sep",
          "sep",
          "sep",
          "sep",
          "sep",
          "sep",
          "sep",
          "sep",
          "sep",
          "sep",
          "sep",
          "oct",
          "oct",
          "oct",
          "oct",
          "oct",
          "oct",
          "oct",
          "oct",
          "oct",
          "oct",
          "oct",
          "oct",
          "oct",
          "oct",
          "oct",
          "oct",
          "oct",
          "oct",
          "oct",
          "oct",
          "oct",
          "oct",
          "oct",
          "oct",
          "oct",
          "oct",
          "oct",
          "oct",
          "oct",
          "oct",
          "oct",
          "nov",
          "nov",
          "nov",
          "nov",
          "nov",
          "nov",
          "nov",
          "nov",
          "nov",
          "nov",
          "nov",
          "nov",
          "nov",
          "nov",
          "nov",
          "nov",
          "nov",
          "nov",
          "nov",
          "nov",
          "nov",
          "nov",
          "nov",
          "nov",
          "nov",
          "nov",
          "nov",
          "nov",
          "nov",
          "nov",
          "dec",
          "dec",
          "dec",
          "dec",
          "dec",
          "dec",
          "dec",
          "dec",
          "dec",
          "dec",
          "dec",
          "dec",
          "dec",
          "dec",
          "dec",
          "dec",
          "dec",
          "dec",
          "dec",
          "dec",
          "dec",
          "dec",
          "dec",
          "dec",
          "dec",
          "dec",
          "dec",
          "dec",
          "dec",
          "dec",
          "dec",
          "jan",
          "jan",
          "jan",
          "jan",
          "jan",
          "jan",
          "jan",
          "jan",
          "jan",
          "jan",
          "jan",
          "jan",
          "jan",
          "jan",
          "jan",
          "jan",
          "jan",
          "jan",
          "jan",
          "jan",
          "jan",
          "jan",
          "jan",
          "jan",
          "jan",
          "jan",
          "jan",
          "jan",
          "jan",
          "jan",
          "jan",
          "feb",
          "feb",
          "feb",
          "feb",
          "feb",
          "feb",
          "feb",
          "feb",
          "feb",
          "feb",
          "feb",
          "feb",
          "feb",
          "feb",
          "feb",
          "feb",
          "feb",
          "feb",
          "feb",
          "feb",
          "feb",
          "feb",
          "feb",
          "feb",
          "feb",
          "feb",
          "feb",
          "feb",
          "mar",
          "mar",
          "mar",
          "mar",
          "mar",
          "mar",
          "mar",
          "mar",
          "mar",
          "mar",
          "mar",
          "mar",
          "mar",
          "mar",
          "mar",
          "mar",
          "mar",
          "mar",
          "mar",
          "mar",
          "mar",
          "mar",
          "mar",
          "mar",
          "mar",
          "mar",
          "mar",
          "mar",
          "mar",
          "mar",
          "mar",
          "apr",
          "apr",
          "apr",
          "apr",
          "apr",
          "apr",
          "apr",
          "apr",
          "apr",
          "apr",
          "apr",
          "apr",
          "apr",
          "apr",
          "apr",
          "apr",
          "apr",
          "apr",
          "apr",
          "apr",
          "apr",
          "apr",
          "apr",
          "apr",
          "apr",
          "apr",
          "apr",
          "apr",
          "apr",
          "apr",
          "may",
          "may",
          "may",
          "may",
          "may",
          "may",
          "may",
          "may",
          "may",
          "may",
          "may",
          "may",
          "may",
          "may",
          "may",
          "may",
          "may",
          "may",
          "may",
          "may",
          "may",
          "may",
          "may",
          "may",
          "may",
          "may",
          "may",
          "may",
          "may",
          "may",
          "may",
          "june",
          "june",
          "june",
          "june",
          "june",
          "june",
          "june",
          "june",
          "june",
          "june",
          "june",
          "june",
          "june",
          "june",
          "june",
          "june",
          "june",
          "june",
          "june",
          "june",
          "june",
          "june",
          "june",
          "june",
          "june",
          "june",
          "june",
          "june",
          "june",
          "june",
          "july",
          "july",
          "july",
          "july",
          "july",
          "july",
          "july",
          "july",
          "july",
          "july",
          "july",
          "july",
          "july",
          "july",
          "july",
          "july",
          "july",
          "july",
          "july",
          "july",
          "july",
          "july",
          "july",
          "july",
          "july",
          "july",
          "july",
          "july",
          "july",
          "july",
          "july",
          "aug",
          "aug",
          "aug",
          "aug",
          "aug",
          "aug",
          "aug",
          "aug",
          "aug",
          "aug",
          "aug",
          "aug",
          "aug",
          "aug",
          "aug",
          "aug",
          "aug",
          "aug",
          "aug",
          "aug",
          "aug",
          "aug",
          "aug",
          "aug",
          "aug",
          "aug",
          "aug",
          "aug",
          "aug",
          "aug",
          "aug",
          "sep",
          "sep",
          "sep",
          "sep",
          "sep",
          "sep",
          "sep",
          "sep",
          "sep",
          "sep",
          "sep",
          "sep",
          "sep",
          "sep",
          "sep",
          "sep",
          "sep",
          "sep",
          "sep",
          "sep",
          "sep",
          "sep",
          "sep",
          "sep",
          "sep",
          "sep",
          "sep",
          "sep",
          "sep",
          "sep",
          "oct",
          "oct",
          "oct",
          "oct",
          "oct",
          "oct",
          "oct",
          "oct",
          "oct",
          "oct",
          "oct",
          "oct",
          "oct",
          "oct",
          "oct",
          "oct",
          "oct",
          "oct",
          "oct",
          "oct",
          "oct",
          "oct",
          "oct",
          "oct",
          "oct",
          "oct",
          "oct",
          "oct",
          "oct",
          "oct",
          "oct",
          "nov",
          "nov",
          "nov",
          "nov",
          "nov",
          "nov",
          "nov",
          "nov",
          "nov",
          "nov",
          "nov",
          "nov",
          "nov",
          "nov",
          "nov",
          "nov",
          "nov",
          "nov",
          "nov",
          "nov",
          "nov",
          "nov",
          "nov",
          "nov",
          "nov",
          "nov",
          "nov",
          "nov",
          "nov",
          "nov",
          "dec",
          "dec",
          "dec",
          "dec",
          "dec",
          "dec",
          "dec",
          "dec",
          "dec",
          "dec",
          "dec",
          "dec",
          "dec",
          "dec",
          "dec",
          "dec",
          "dec",
          "dec",
          "dec",
          "dec",
          "dec",
          "dec",
          "dec",
          "dec",
          "dec",
          "dec",
          "dec",
          "dec",
          "dec",
          "dec",
          "dec"
         ],
         "xaxis": "x",
         "y": [
          985,
          801,
          1349,
          1562,
          1600,
          1606,
          1510,
          959,
          822,
          1321,
          1263,
          1162,
          1406,
          1421,
          1248,
          1204,
          1000,
          683,
          1650,
          1927,
          1543,
          981,
          986,
          1416,
          1985,
          506,
          431,
          1167,
          1098,
          1096,
          1501,
          1360,
          1526,
          1550,
          1708,
          1005,
          1623,
          1712,
          1530,
          1605,
          1538,
          1746,
          1472,
          1589,
          1913,
          1815,
          2115,
          2475,
          2927,
          1635,
          1812,
          1107,
          1450,
          1917,
          1807,
          1461,
          1969,
          2402,
          1446,
          1851,
          2134,
          1685,
          1944,
          2077,
          605,
          1872,
          2133,
          1891,
          623,
          1977,
          2132,
          2417,
          2046,
          2056,
          2192,
          2744,
          3239,
          3117,
          2471,
          2077,
          2703,
          2121,
          1865,
          2210,
          2496,
          1693,
          2028,
          2425,
          1536,
          1685,
          2227,
          2252,
          3249,
          3115,
          1795,
          2808,
          3141,
          1471,
          2455,
          2895,
          3348,
          2034,
          2162,
          3267,
          3126,
          795,
          3744,
          3429,
          3204,
          3944,
          4189,
          1683,
          4036,
          4191,
          4073,
          4400,
          3872,
          4058,
          4595,
          5312,
          3351,
          4401,
          4451,
          2633,
          4433,
          4608,
          4714,
          4333,
          4362,
          4803,
          4182,
          4864,
          4105,
          3409,
          4553,
          3958,
          4123,
          3855,
          4575,
          4917,
          5805,
          4660,
          4274,
          4492,
          4978,
          4677,
          4679,
          4758,
          4788,
          4098,
          3982,
          3974,
          4968,
          5312,
          5342,
          4906,
          4548,
          4833,
          4401,
          3915,
          4586,
          4966,
          4460,
          5020,
          4891,
          5180,
          3767,
          4844,
          5119,
          4744,
          4010,
          4835,
          4507,
          4790,
          4991,
          5202,
          5305,
          4708,
          4648,
          5225,
          5515,
          5362,
          5119,
          4649,
          6043,
          4665,
          4629,
          4592,
          4040,
          5336,
          4881,
          4086,
          4258,
          4342,
          5084,
          5538,
          5923,
          5302,
          4458,
          4541,
          4332,
          3784,
          3387,
          3285,
          3606,
          3840,
          4590,
          4656,
          4390,
          3846,
          4475,
          4302,
          4266,
          4845,
          3574,
          4576,
          4866,
          4294,
          3785,
          4326,
          4602,
          4780,
          4792,
          4905,
          4150,
          3820,
          4338,
          4725,
          4694,
          3805,
          4153,
          5191,
          3873,
          4758,
          5895,
          5130,
          3542,
          4661,
          1115,
          4334,
          4634,
          5204,
          5058,
          5115,
          4727,
          4484,
          4940,
          3351,
          2710,
          1996,
          1842,
          3544,
          5345,
          5046,
          4713,
          4763,
          4785,
          3659,
          4760,
          4511,
          4274,
          4539,
          3641,
          4352,
          4795,
          2395,
          5423,
          5010,
          4630,
          4120,
          3907,
          4839,
          5202,
          2429,
          2918,
          3570,
          4456,
          4826,
          4765,
          4985,
          5409,
          5511,
          5117,
          4563,
          2416,
          2913,
          3644,
          5217,
          5041,
          4570,
          4748,
          2424,
          4195,
          4304,
          4308,
          4381,
          4187,
          4687,
          3894,
          2659,
          3747,
          627,
          3331,
          3669,
          4068,
          4186,
          3974,
          4046,
          3926,
          3649,
          4035,
          4205,
          4109,
          2933,
          3368,
          4067,
          3717,
          4486,
          4195,
          1817,
          3053,
          3392,
          3663,
          3520,
          2765,
          1607,
          2566,
          1495,
          2792,
          3068,
          3071,
          3867,
          2914,
          3613,
          3727,
          3940,
          3614,
          3485,
          3811,
          2594,
          705,
          3322,
          3620,
          3190,
          2743,
          3310,
          3523,
          3740,
          3709,
          3577,
          2739,
          2431,
          3403,
          3750,
          2660,
          3068,
          2209,
          1011,
          754,
          1317,
          1162,
          2302,
          2423,
          2999,
          2485,
          2294,
          1951,
          2236,
          2368,
          3272,
          4098,
          4521,
          3425,
          2376,
          3598,
          2177,
          4097,
          3214,
          2493,
          2311,
          2298,
          2935,
          3376,
          3292,
          3163,
          1301,
          1977,
          2432,
          4339,
          4270,
          4075,
          3456,
          4023,
          3243,
          3624,
          4509,
          4579,
          3761,
          4151,
          2832,
          2947,
          3784,
          4375,
          2802,
          3830,
          3831,
          2169,
          1529,
          3422,
          3922,
          4169,
          3005,
          4154,
          4318,
          2689,
          3129,
          3777,
          4773,
          5062,
          3487,
          2732,
          3389,
          4322,
          4363,
          4990,
          3194,
          4066,
          3423,
          3333,
          3956,
          4916,
          5382,
          4569,
          4118,
          4911,
          5298,
          5847,
          6312,
          6192,
          4378,
          7836,
          5892,
          6153,
          6093,
          6230,
          6871,
          8362,
          3372,
          4996,
          5558,
          5102,
          5698,
          6133,
          5459,
          6235,
          6041,
          5936,
          6772,
          6436,
          6457,
          6460,
          6857,
          5169,
          5585,
          5918,
          4862,
          5409,
          6398,
          7460,
          7132,
          6370,
          6691,
          4367,
          6565,
          7290,
          6624,
          1027,
          3214,
          5633,
          6196,
          5026,
          6233,
          4220,
          6304,
          5572,
          5740,
          6169,
          6421,
          6296,
          6883,
          6359,
          6273,
          5728,
          4717,
          6572,
          7030,
          7429,
          6118,
          2843,
          5115,
          7424,
          7384,
          7639,
          8294,
          7129,
          4359,
          6073,
          5260,
          6770,
          6734,
          6536,
          6591,
          6043,
          5743,
          6855,
          7338,
          4127,
          8120,
          7641,
          6998,
          7001,
          7055,
          7494,
          7736,
          7498,
          6598,
          6664,
          4972,
          7421,
          7363,
          7665,
          7702,
          6978,
          5099,
          6825,
          6211,
          5905,
          5823,
          7458,
          6891,
          6779,
          7442,
          7335,
          6879,
          5463,
          5687,
          5531,
          6227,
          6660,
          7403,
          6241,
          6207,
          4840,
          4672,
          6569,
          6290,
          7264,
          7446,
          7499,
          6969,
          6031,
          6830,
          6786,
          5713,
          6591,
          5870,
          4459,
          7410,
          6966,
          7592,
          8173,
          6861,
          6904,
          6685,
          6597,
          7105,
          7216,
          7580,
          7261,
          7175,
          6824,
          5464,
          7013,
          7273,
          7534,
          7286,
          5786,
          6299,
          6544,
          6883,
          6784,
          7347,
          7605,
          7148,
          7865,
          4549,
          6530,
          7006,
          7375,
          7765,
          7582,
          6053,
          5255,
          6917,
          7040,
          7697,
          7713,
          7350,
          6140,
          5810,
          6034,
          6864,
          7112,
          6203,
          7504,
          5976,
          8227,
          7525,
          7767,
          7870,
          7804,
          8009,
          8714,
          7333,
          6869,
          4073,
          7591,
          7720,
          8167,
          8395,
          7907,
          7436,
          7538,
          7733,
          7393,
          7415,
          8555,
          6889,
          6778,
          4639,
          7572,
          7328,
          8156,
          7965,
          3510,
          5478,
          6392,
          7691,
          7570,
          7282,
          7109,
          6639,
          5875,
          7534,
          7461,
          7509,
          5424,
          8090,
          6824,
          7058,
          7466,
          7693,
          7359,
          7444,
          7852,
          4459,
          22,
          1096,
          5566,
          5986,
          5847,
          5138,
          5107,
          5259,
          5686,
          5035,
          5315,
          5992,
          6536,
          6852,
          6269,
          4094,
          5495,
          5445,
          5698,
          5629,
          4669,
          5499,
          5634,
          5146,
          2425,
          3910,
          2277,
          2424,
          5087,
          3959,
          5260,
          5323,
          5668,
          5191,
          4649,
          6234,
          6606,
          5729,
          5375,
          5008,
          5582,
          3228,
          5170,
          5501,
          5319,
          5532,
          5611,
          5047,
          3786,
          4585,
          5557,
          5267,
          4128,
          3623,
          1749,
          1787,
          920,
          1013,
          441,
          2114,
          3095,
          1341,
          1796,
          2729
         ],
         "yaxis": "y"
        }
       ],
       "layout": {
        "barmode": "relative",
        "legend": {
         "tracegroupgap": 0
        },
        "margin": {
         "t": 60
        },
        "template": {
         "data": {
          "bar": [
           {
            "error_x": {
             "color": "#2a3f5f"
            },
            "error_y": {
             "color": "#2a3f5f"
            },
            "marker": {
             "line": {
              "color": "#E5ECF6",
              "width": 0.5
             },
             "pattern": {
              "fillmode": "overlay",
              "size": 10,
              "solidity": 0.2
             }
            },
            "type": "bar"
           }
          ],
          "barpolar": [
           {
            "marker": {
             "line": {
              "color": "#E5ECF6",
              "width": 0.5
             },
             "pattern": {
              "fillmode": "overlay",
              "size": 10,
              "solidity": 0.2
             }
            },
            "type": "barpolar"
           }
          ],
          "carpet": [
           {
            "aaxis": {
             "endlinecolor": "#2a3f5f",
             "gridcolor": "white",
             "linecolor": "white",
             "minorgridcolor": "white",
             "startlinecolor": "#2a3f5f"
            },
            "baxis": {
             "endlinecolor": "#2a3f5f",
             "gridcolor": "white",
             "linecolor": "white",
             "minorgridcolor": "white",
             "startlinecolor": "#2a3f5f"
            },
            "type": "carpet"
           }
          ],
          "choropleth": [
           {
            "colorbar": {
             "outlinewidth": 0,
             "ticks": ""
            },
            "type": "choropleth"
           }
          ],
          "contour": [
           {
            "colorbar": {
             "outlinewidth": 0,
             "ticks": ""
            },
            "colorscale": [
             [
              0,
              "#0d0887"
             ],
             [
              0.1111111111111111,
              "#46039f"
             ],
             [
              0.2222222222222222,
              "#7201a8"
             ],
             [
              0.3333333333333333,
              "#9c179e"
             ],
             [
              0.4444444444444444,
              "#bd3786"
             ],
             [
              0.5555555555555556,
              "#d8576b"
             ],
             [
              0.6666666666666666,
              "#ed7953"
             ],
             [
              0.7777777777777778,
              "#fb9f3a"
             ],
             [
              0.8888888888888888,
              "#fdca26"
             ],
             [
              1,
              "#f0f921"
             ]
            ],
            "type": "contour"
           }
          ],
          "contourcarpet": [
           {
            "colorbar": {
             "outlinewidth": 0,
             "ticks": ""
            },
            "type": "contourcarpet"
           }
          ],
          "heatmap": [
           {
            "colorbar": {
             "outlinewidth": 0,
             "ticks": ""
            },
            "colorscale": [
             [
              0,
              "#0d0887"
             ],
             [
              0.1111111111111111,
              "#46039f"
             ],
             [
              0.2222222222222222,
              "#7201a8"
             ],
             [
              0.3333333333333333,
              "#9c179e"
             ],
             [
              0.4444444444444444,
              "#bd3786"
             ],
             [
              0.5555555555555556,
              "#d8576b"
             ],
             [
              0.6666666666666666,
              "#ed7953"
             ],
             [
              0.7777777777777778,
              "#fb9f3a"
             ],
             [
              0.8888888888888888,
              "#fdca26"
             ],
             [
              1,
              "#f0f921"
             ]
            ],
            "type": "heatmap"
           }
          ],
          "heatmapgl": [
           {
            "colorbar": {
             "outlinewidth": 0,
             "ticks": ""
            },
            "colorscale": [
             [
              0,
              "#0d0887"
             ],
             [
              0.1111111111111111,
              "#46039f"
             ],
             [
              0.2222222222222222,
              "#7201a8"
             ],
             [
              0.3333333333333333,
              "#9c179e"
             ],
             [
              0.4444444444444444,
              "#bd3786"
             ],
             [
              0.5555555555555556,
              "#d8576b"
             ],
             [
              0.6666666666666666,
              "#ed7953"
             ],
             [
              0.7777777777777778,
              "#fb9f3a"
             ],
             [
              0.8888888888888888,
              "#fdca26"
             ],
             [
              1,
              "#f0f921"
             ]
            ],
            "type": "heatmapgl"
           }
          ],
          "histogram": [
           {
            "marker": {
             "pattern": {
              "fillmode": "overlay",
              "size": 10,
              "solidity": 0.2
             }
            },
            "type": "histogram"
           }
          ],
          "histogram2d": [
           {
            "colorbar": {
             "outlinewidth": 0,
             "ticks": ""
            },
            "colorscale": [
             [
              0,
              "#0d0887"
             ],
             [
              0.1111111111111111,
              "#46039f"
             ],
             [
              0.2222222222222222,
              "#7201a8"
             ],
             [
              0.3333333333333333,
              "#9c179e"
             ],
             [
              0.4444444444444444,
              "#bd3786"
             ],
             [
              0.5555555555555556,
              "#d8576b"
             ],
             [
              0.6666666666666666,
              "#ed7953"
             ],
             [
              0.7777777777777778,
              "#fb9f3a"
             ],
             [
              0.8888888888888888,
              "#fdca26"
             ],
             [
              1,
              "#f0f921"
             ]
            ],
            "type": "histogram2d"
           }
          ],
          "histogram2dcontour": [
           {
            "colorbar": {
             "outlinewidth": 0,
             "ticks": ""
            },
            "colorscale": [
             [
              0,
              "#0d0887"
             ],
             [
              0.1111111111111111,
              "#46039f"
             ],
             [
              0.2222222222222222,
              "#7201a8"
             ],
             [
              0.3333333333333333,
              "#9c179e"
             ],
             [
              0.4444444444444444,
              "#bd3786"
             ],
             [
              0.5555555555555556,
              "#d8576b"
             ],
             [
              0.6666666666666666,
              "#ed7953"
             ],
             [
              0.7777777777777778,
              "#fb9f3a"
             ],
             [
              0.8888888888888888,
              "#fdca26"
             ],
             [
              1,
              "#f0f921"
             ]
            ],
            "type": "histogram2dcontour"
           }
          ],
          "mesh3d": [
           {
            "colorbar": {
             "outlinewidth": 0,
             "ticks": ""
            },
            "type": "mesh3d"
           }
          ],
          "parcoords": [
           {
            "line": {
             "colorbar": {
              "outlinewidth": 0,
              "ticks": ""
             }
            },
            "type": "parcoords"
           }
          ],
          "pie": [
           {
            "automargin": true,
            "type": "pie"
           }
          ],
          "scatter": [
           {
            "fillpattern": {
             "fillmode": "overlay",
             "size": 10,
             "solidity": 0.2
            },
            "type": "scatter"
           }
          ],
          "scatter3d": [
           {
            "line": {
             "colorbar": {
              "outlinewidth": 0,
              "ticks": ""
             }
            },
            "marker": {
             "colorbar": {
              "outlinewidth": 0,
              "ticks": ""
             }
            },
            "type": "scatter3d"
           }
          ],
          "scattercarpet": [
           {
            "marker": {
             "colorbar": {
              "outlinewidth": 0,
              "ticks": ""
             }
            },
            "type": "scattercarpet"
           }
          ],
          "scattergeo": [
           {
            "marker": {
             "colorbar": {
              "outlinewidth": 0,
              "ticks": ""
             }
            },
            "type": "scattergeo"
           }
          ],
          "scattergl": [
           {
            "marker": {
             "colorbar": {
              "outlinewidth": 0,
              "ticks": ""
             }
            },
            "type": "scattergl"
           }
          ],
          "scattermapbox": [
           {
            "marker": {
             "colorbar": {
              "outlinewidth": 0,
              "ticks": ""
             }
            },
            "type": "scattermapbox"
           }
          ],
          "scatterpolar": [
           {
            "marker": {
             "colorbar": {
              "outlinewidth": 0,
              "ticks": ""
             }
            },
            "type": "scatterpolar"
           }
          ],
          "scatterpolargl": [
           {
            "marker": {
             "colorbar": {
              "outlinewidth": 0,
              "ticks": ""
             }
            },
            "type": "scatterpolargl"
           }
          ],
          "scatterternary": [
           {
            "marker": {
             "colorbar": {
              "outlinewidth": 0,
              "ticks": ""
             }
            },
            "type": "scatterternary"
           }
          ],
          "surface": [
           {
            "colorbar": {
             "outlinewidth": 0,
             "ticks": ""
            },
            "colorscale": [
             [
              0,
              "#0d0887"
             ],
             [
              0.1111111111111111,
              "#46039f"
             ],
             [
              0.2222222222222222,
              "#7201a8"
             ],
             [
              0.3333333333333333,
              "#9c179e"
             ],
             [
              0.4444444444444444,
              "#bd3786"
             ],
             [
              0.5555555555555556,
              "#d8576b"
             ],
             [
              0.6666666666666666,
              "#ed7953"
             ],
             [
              0.7777777777777778,
              "#fb9f3a"
             ],
             [
              0.8888888888888888,
              "#fdca26"
             ],
             [
              1,
              "#f0f921"
             ]
            ],
            "type": "surface"
           }
          ],
          "table": [
           {
            "cells": {
             "fill": {
              "color": "#EBF0F8"
             },
             "line": {
              "color": "white"
             }
            },
            "header": {
             "fill": {
              "color": "#C8D4E3"
             },
             "line": {
              "color": "white"
             }
            },
            "type": "table"
           }
          ]
         },
         "layout": {
          "annotationdefaults": {
           "arrowcolor": "#2a3f5f",
           "arrowhead": 0,
           "arrowwidth": 1
          },
          "autotypenumbers": "strict",
          "coloraxis": {
           "colorbar": {
            "outlinewidth": 0,
            "ticks": ""
           }
          },
          "colorscale": {
           "diverging": [
            [
             0,
             "#8e0152"
            ],
            [
             0.1,
             "#c51b7d"
            ],
            [
             0.2,
             "#de77ae"
            ],
            [
             0.3,
             "#f1b6da"
            ],
            [
             0.4,
             "#fde0ef"
            ],
            [
             0.5,
             "#f7f7f7"
            ],
            [
             0.6,
             "#e6f5d0"
            ],
            [
             0.7,
             "#b8e186"
            ],
            [
             0.8,
             "#7fbc41"
            ],
            [
             0.9,
             "#4d9221"
            ],
            [
             1,
             "#276419"
            ]
           ],
           "sequential": [
            [
             0,
             "#0d0887"
            ],
            [
             0.1111111111111111,
             "#46039f"
            ],
            [
             0.2222222222222222,
             "#7201a8"
            ],
            [
             0.3333333333333333,
             "#9c179e"
            ],
            [
             0.4444444444444444,
             "#bd3786"
            ],
            [
             0.5555555555555556,
             "#d8576b"
            ],
            [
             0.6666666666666666,
             "#ed7953"
            ],
            [
             0.7777777777777778,
             "#fb9f3a"
            ],
            [
             0.8888888888888888,
             "#fdca26"
            ],
            [
             1,
             "#f0f921"
            ]
           ],
           "sequentialminus": [
            [
             0,
             "#0d0887"
            ],
            [
             0.1111111111111111,
             "#46039f"
            ],
            [
             0.2222222222222222,
             "#7201a8"
            ],
            [
             0.3333333333333333,
             "#9c179e"
            ],
            [
             0.4444444444444444,
             "#bd3786"
            ],
            [
             0.5555555555555556,
             "#d8576b"
            ],
            [
             0.6666666666666666,
             "#ed7953"
            ],
            [
             0.7777777777777778,
             "#fb9f3a"
            ],
            [
             0.8888888888888888,
             "#fdca26"
            ],
            [
             1,
             "#f0f921"
            ]
           ]
          },
          "colorway": [
           "#636efa",
           "#EF553B",
           "#00cc96",
           "#ab63fa",
           "#FFA15A",
           "#19d3f3",
           "#FF6692",
           "#B6E880",
           "#FF97FF",
           "#FECB52"
          ],
          "font": {
           "color": "#2a3f5f"
          },
          "geo": {
           "bgcolor": "white",
           "lakecolor": "white",
           "landcolor": "#E5ECF6",
           "showlakes": true,
           "showland": true,
           "subunitcolor": "white"
          },
          "hoverlabel": {
           "align": "left"
          },
          "hovermode": "closest",
          "mapbox": {
           "style": "light"
          },
          "paper_bgcolor": "white",
          "plot_bgcolor": "#E5ECF6",
          "polar": {
           "angularaxis": {
            "gridcolor": "white",
            "linecolor": "white",
            "ticks": ""
           },
           "bgcolor": "#E5ECF6",
           "radialaxis": {
            "gridcolor": "white",
            "linecolor": "white",
            "ticks": ""
           }
          },
          "scene": {
           "xaxis": {
            "backgroundcolor": "#E5ECF6",
            "gridcolor": "white",
            "gridwidth": 2,
            "linecolor": "white",
            "showbackground": true,
            "ticks": "",
            "zerolinecolor": "white"
           },
           "yaxis": {
            "backgroundcolor": "#E5ECF6",
            "gridcolor": "white",
            "gridwidth": 2,
            "linecolor": "white",
            "showbackground": true,
            "ticks": "",
            "zerolinecolor": "white"
           },
           "zaxis": {
            "backgroundcolor": "#E5ECF6",
            "gridcolor": "white",
            "gridwidth": 2,
            "linecolor": "white",
            "showbackground": true,
            "ticks": "",
            "zerolinecolor": "white"
           }
          },
          "shapedefaults": {
           "line": {
            "color": "#2a3f5f"
           }
          },
          "ternary": {
           "aaxis": {
            "gridcolor": "white",
            "linecolor": "white",
            "ticks": ""
           },
           "baxis": {
            "gridcolor": "white",
            "linecolor": "white",
            "ticks": ""
           },
           "bgcolor": "#E5ECF6",
           "caxis": {
            "gridcolor": "white",
            "linecolor": "white",
            "ticks": ""
           }
          },
          "title": {
           "x": 0.05
          },
          "xaxis": {
           "automargin": true,
           "gridcolor": "white",
           "linecolor": "white",
           "ticks": "",
           "title": {
            "standoff": 15
           },
           "zerolinecolor": "white",
           "zerolinewidth": 2
          },
          "yaxis": {
           "automargin": true,
           "gridcolor": "white",
           "linecolor": "white",
           "ticks": "",
           "title": {
            "standoff": 15
           },
           "zerolinecolor": "white",
           "zerolinewidth": 2
          }
         }
        },
        "title": {
         "text": "Demand of bikes per months",
         "x": 0.5,
         "xanchor": "center",
         "y": 0.9,
         "yanchor": "top"
        },
        "xaxis": {
         "anchor": "y",
         "domain": [
          0,
          1
         ],
         "title": {
          "text": "mnth"
         }
        },
        "yaxis": {
         "anchor": "x",
         "domain": [
          0,
          1
         ],
         "title": {
          "text": "cnt"
         }
        }
       }
      }
     },
     "metadata": {},
     "output_type": "display_data"
    }
   ],
   "source": [
    "fig = px.bar(df, x='mnth', y='cnt')\n",
    "\n",
    "fig.update_layout(\n",
    "    title={\n",
    "        'text': \"Demand of bikes per months\",\n",
    "        'y':0.9,\n",
    "        'x':0.5,\n",
    "        'xanchor': 'center',\n",
    "        'yanchor': 'top'})\n",
    "\n",
    "fig.show()"
   ]
  },
  {
   "cell_type": "code",
   "execution_count": 12,
   "metadata": {},
   "outputs": [
    {
     "data": {
      "application/vnd.plotly.v1+json": {
       "config": {
        "plotlyServerURL": "https://plot.ly"
       },
       "data": [
        {
         "alignmentgroup": "True",
         "hovertemplate": "weekday=%{x}<br>cnt=%{y}<extra></extra>",
         "legendgroup": "",
         "marker": {
          "color": "#636efa",
          "pattern": {
           "shape": ""
          }
         },
         "name": "",
         "offsetgroup": "",
         "orientation": "v",
         "showlegend": false,
         "textposition": "auto",
         "type": "bar",
         "x": [
          "sat",
          "sun",
          "mon",
          "tue",
          "wed",
          "thu",
          "fri",
          "sat",
          "sun",
          "mon",
          "tue",
          "wed",
          "thu",
          "fri",
          "sat",
          "sun",
          "mon",
          "tue",
          "wed",
          "thu",
          "fri",
          "sat",
          "sun",
          "mon",
          "tue",
          "wed",
          "thu",
          "fri",
          "sat",
          "sun",
          "mon",
          "tue",
          "wed",
          "thu",
          "fri",
          "sat",
          "sun",
          "mon",
          "tue",
          "wed",
          "thu",
          "fri",
          "sat",
          "sun",
          "mon",
          "tue",
          "wed",
          "thu",
          "fri",
          "sat",
          "sun",
          "mon",
          "tue",
          "wed",
          "thu",
          "fri",
          "sat",
          "sun",
          "mon",
          "tue",
          "wed",
          "thu",
          "fri",
          "sat",
          "sun",
          "mon",
          "tue",
          "wed",
          "thu",
          "fri",
          "sat",
          "sun",
          "mon",
          "tue",
          "wed",
          "thu",
          "fri",
          "sat",
          "sun",
          "mon",
          "tue",
          "wed",
          "thu",
          "fri",
          "sat",
          "sun",
          "mon",
          "tue",
          "wed",
          "thu",
          "fri",
          "sat",
          "sun",
          "mon",
          "tue",
          "wed",
          "thu",
          "fri",
          "sat",
          "sun",
          "mon",
          "tue",
          "wed",
          "thu",
          "fri",
          "sat",
          "sun",
          "mon",
          "tue",
          "wed",
          "thu",
          "fri",
          "sat",
          "sun",
          "mon",
          "tue",
          "wed",
          "thu",
          "fri",
          "sat",
          "sun",
          "mon",
          "tue",
          "wed",
          "thu",
          "fri",
          "sat",
          "sun",
          "mon",
          "tue",
          "wed",
          "thu",
          "fri",
          "sat",
          "sun",
          "mon",
          "tue",
          "wed",
          "thu",
          "fri",
          "sat",
          "sun",
          "mon",
          "tue",
          "wed",
          "thu",
          "fri",
          "sat",
          "sun",
          "mon",
          "tue",
          "wed",
          "thu",
          "fri",
          "sat",
          "sun",
          "mon",
          "tue",
          "wed",
          "thu",
          "fri",
          "sat",
          "sun",
          "mon",
          "tue",
          "wed",
          "thu",
          "fri",
          "sat",
          "sun",
          "mon",
          "tue",
          "wed",
          "thu",
          "fri",
          "sat",
          "sun",
          "mon",
          "tue",
          "wed",
          "thu",
          "fri",
          "sat",
          "sun",
          "mon",
          "tue",
          "wed",
          "thu",
          "fri",
          "sat",
          "sun",
          "mon",
          "tue",
          "wed",
          "thu",
          "fri",
          "sat",
          "sun",
          "mon",
          "tue",
          "wed",
          "thu",
          "fri",
          "sat",
          "sun",
          "mon",
          "tue",
          "wed",
          "thu",
          "fri",
          "sat",
          "sun",
          "mon",
          "tue",
          "wed",
          "thu",
          "fri",
          "sat",
          "sun",
          "mon",
          "tue",
          "wed",
          "thu",
          "fri",
          "sat",
          "sun",
          "mon",
          "tue",
          "wed",
          "thu",
          "fri",
          "sat",
          "sun",
          "mon",
          "tue",
          "wed",
          "thu",
          "fri",
          "sat",
          "sun",
          "mon",
          "tue",
          "wed",
          "thu",
          "fri",
          "sat",
          "sun",
          "mon",
          "tue",
          "wed",
          "thu",
          "fri",
          "sat",
          "sun",
          "mon",
          "tue",
          "wed",
          "thu",
          "fri",
          "sat",
          "sun",
          "mon",
          "tue",
          "wed",
          "thu",
          "fri",
          "sat",
          "sun",
          "mon",
          "tue",
          "wed",
          "thu",
          "fri",
          "sat",
          "sun",
          "mon",
          "tue",
          "wed",
          "thu",
          "fri",
          "sat",
          "sun",
          "mon",
          "tue",
          "wed",
          "thu",
          "fri",
          "sat",
          "sun",
          "mon",
          "tue",
          "wed",
          "thu",
          "fri",
          "sat",
          "sun",
          "mon",
          "tue",
          "wed",
          "thu",
          "fri",
          "sat",
          "sun",
          "mon",
          "tue",
          "wed",
          "thu",
          "fri",
          "sat",
          "sun",
          "mon",
          "tue",
          "wed",
          "thu",
          "fri",
          "sat",
          "sun",
          "mon",
          "tue",
          "wed",
          "thu",
          "fri",
          "sat",
          "sun",
          "mon",
          "tue",
          "wed",
          "thu",
          "fri",
          "sat",
          "sun",
          "mon",
          "tue",
          "wed",
          "thu",
          "fri",
          "sat",
          "sun",
          "mon",
          "tue",
          "wed",
          "thu",
          "fri",
          "sat",
          "sun",
          "mon",
          "tue",
          "wed",
          "thu",
          "fri",
          "sat",
          "sun",
          "mon",
          "tue",
          "wed",
          "thu",
          "fri",
          "sat",
          "sun",
          "mon",
          "tue",
          "wed",
          "thu",
          "fri",
          "sat",
          "sun",
          "mon",
          "tue",
          "wed",
          "thu",
          "fri",
          "sat",
          "sun",
          "mon",
          "tue",
          "wed",
          "thu",
          "fri",
          "sat",
          "sun",
          "mon",
          "tue",
          "wed",
          "thu",
          "fri",
          "sat",
          "sun",
          "mon",
          "tue",
          "wed",
          "thu",
          "fri",
          "sat",
          "sun",
          "mon",
          "tue",
          "wed",
          "thu",
          "fri",
          "sat",
          "sun",
          "mon",
          "tue",
          "wed",
          "thu",
          "fri",
          "sat",
          "sun",
          "mon",
          "tue",
          "wed",
          "thu",
          "fri",
          "sat",
          "sun",
          "mon",
          "tue",
          "wed",
          "thu",
          "fri",
          "sat",
          "sun",
          "mon",
          "tue",
          "thu",
          "fri",
          "sat",
          "sun",
          "mon",
          "tue",
          "wed",
          "thu",
          "fri",
          "sat",
          "sun",
          "mon",
          "tue",
          "wed",
          "thu",
          "fri",
          "sat",
          "sun",
          "mon",
          "tue",
          "wed",
          "thu",
          "fri",
          "sat",
          "sun",
          "mon",
          "tue",
          "wed",
          "thu",
          "fri",
          "sat",
          "sun",
          "mon",
          "tue",
          "wed",
          "thu",
          "fri",
          "sat",
          "sun",
          "mon",
          "tue",
          "wed",
          "thu",
          "fri",
          "sat",
          "sun",
          "mon",
          "tue",
          "wed",
          "thu",
          "fri",
          "sat",
          "sun",
          "mon",
          "tue",
          "wed",
          "thu",
          "fri",
          "sat",
          "sun",
          "mon",
          "tue",
          "wed",
          "thu",
          "fri",
          "sat",
          "sun",
          "mon",
          "tue",
          "wed",
          "thu",
          "fri",
          "sat",
          "sun",
          "mon",
          "tue",
          "wed",
          "thu",
          "fri",
          "sat",
          "sun",
          "mon",
          "tue",
          "wed",
          "thu",
          "fri",
          "sat",
          "sun",
          "mon",
          "tue",
          "wed",
          "thu",
          "fri",
          "sat",
          "sun",
          "mon",
          "tue",
          "wed",
          "thu",
          "fri",
          "sat",
          "sun",
          "mon",
          "tue",
          "wed",
          "thu",
          "fri",
          "sat",
          "sun",
          "mon",
          "tue",
          "wed",
          "thu",
          "fri",
          "sat",
          "sun",
          "mon",
          "tue",
          "wed",
          "thu",
          "fri",
          "sat",
          "sun",
          "mon",
          "tue",
          "wed",
          "thu",
          "fri",
          "sat",
          "sun",
          "mon",
          "tue",
          "wed",
          "thu",
          "fri",
          "sat",
          "sun",
          "mon",
          "tue",
          "wed",
          "thu",
          "fri",
          "sat",
          "sun",
          "mon",
          "tue",
          "wed",
          "thu",
          "fri",
          "sat",
          "sun",
          "mon",
          "tue",
          "wed",
          "thu",
          "fri",
          "sat",
          "sun",
          "mon",
          "tue",
          "wed",
          "thu",
          "fri",
          "sat",
          "sun",
          "mon",
          "tue",
          "wed",
          "thu",
          "fri",
          "sat",
          "sun",
          "mon",
          "tue",
          "wed",
          "thu",
          "fri",
          "sat",
          "sun",
          "mon",
          "tue",
          "wed",
          "thu",
          "fri",
          "sat",
          "sun",
          "mon",
          "tue",
          "wed",
          "thu",
          "fri",
          "sat",
          "sun",
          "mon",
          "tue",
          "wed",
          "thu",
          "fri",
          "sat",
          "sun",
          "mon",
          "tue",
          "wed",
          "thu",
          "fri",
          "sat",
          "sun",
          "mon",
          "tue",
          "wed",
          "thu",
          "fri",
          "sat",
          "sun",
          "mon",
          "tue",
          "wed",
          "thu",
          "fri",
          "sat",
          "sun",
          "mon",
          "tue",
          "wed",
          "thu",
          "fri",
          "sat",
          "sun",
          "mon",
          "tue",
          "wed",
          "thu",
          "fri",
          "sat",
          "sun",
          "mon",
          "tue",
          "wed",
          "thu",
          "fri",
          "sat",
          "sun",
          "mon",
          "tue",
          "wed",
          "thu",
          "fri",
          "sat",
          "sun",
          "mon",
          "tue",
          "wed",
          "thu",
          "fri",
          "sat",
          "sun",
          "mon",
          "tue",
          "wed",
          "thu",
          "fri",
          "sat",
          "sun",
          "mon",
          "tue",
          "wed",
          "thu",
          "fri",
          "sat",
          "sun",
          "mon",
          "tue",
          "wed",
          "thu",
          "fri",
          "sat",
          "sun",
          "mon",
          "tue",
          "wed",
          "thu",
          "fri",
          "sat",
          "sun",
          "mon",
          "tue",
          "wed",
          "thu",
          "fri",
          "sat",
          "sun",
          "mon",
          "tue",
          "wed",
          "thu",
          "fri",
          "sat",
          "sun",
          "mon",
          "tue",
          "wed",
          "thu",
          "fri",
          "sat",
          "sun",
          "mon"
         ],
         "xaxis": "x",
         "y": [
          985,
          801,
          1349,
          1562,
          1600,
          1606,
          1510,
          959,
          822,
          1321,
          1263,
          1162,
          1406,
          1421,
          1248,
          1204,
          1000,
          683,
          1650,
          1927,
          1543,
          981,
          986,
          1416,
          1985,
          506,
          431,
          1167,
          1098,
          1096,
          1501,
          1360,
          1526,
          1550,
          1708,
          1005,
          1623,
          1712,
          1530,
          1605,
          1538,
          1746,
          1472,
          1589,
          1913,
          1815,
          2115,
          2475,
          2927,
          1635,
          1812,
          1107,
          1450,
          1917,
          1807,
          1461,
          1969,
          2402,
          1446,
          1851,
          2134,
          1685,
          1944,
          2077,
          605,
          1872,
          2133,
          1891,
          623,
          1977,
          2132,
          2417,
          2046,
          2056,
          2192,
          2744,
          3239,
          3117,
          2471,
          2077,
          2703,
          2121,
          1865,
          2210,
          2496,
          1693,
          2028,
          2425,
          1536,
          1685,
          2227,
          2252,
          3249,
          3115,
          1795,
          2808,
          3141,
          1471,
          2455,
          2895,
          3348,
          2034,
          2162,
          3267,
          3126,
          795,
          3744,
          3429,
          3204,
          3944,
          4189,
          1683,
          4036,
          4191,
          4073,
          4400,
          3872,
          4058,
          4595,
          5312,
          3351,
          4401,
          4451,
          2633,
          4433,
          4608,
          4714,
          4333,
          4362,
          4803,
          4182,
          4864,
          4105,
          3409,
          4553,
          3958,
          4123,
          3855,
          4575,
          4917,
          5805,
          4660,
          4274,
          4492,
          4978,
          4677,
          4679,
          4758,
          4788,
          4098,
          3982,
          3974,
          4968,
          5312,
          5342,
          4906,
          4548,
          4833,
          4401,
          3915,
          4586,
          4966,
          4460,
          5020,
          4891,
          5180,
          3767,
          4844,
          5119,
          4744,
          4010,
          4835,
          4507,
          4790,
          4991,
          5202,
          5305,
          4708,
          4648,
          5225,
          5515,
          5362,
          5119,
          4649,
          6043,
          4665,
          4629,
          4592,
          4040,
          5336,
          4881,
          4086,
          4258,
          4342,
          5084,
          5538,
          5923,
          5302,
          4458,
          4541,
          4332,
          3784,
          3387,
          3285,
          3606,
          3840,
          4590,
          4656,
          4390,
          3846,
          4475,
          4302,
          4266,
          4845,
          3574,
          4576,
          4866,
          4294,
          3785,
          4326,
          4602,
          4780,
          4792,
          4905,
          4150,
          3820,
          4338,
          4725,
          4694,
          3805,
          4153,
          5191,
          3873,
          4758,
          5895,
          5130,
          3542,
          4661,
          1115,
          4334,
          4634,
          5204,
          5058,
          5115,
          4727,
          4484,
          4940,
          3351,
          2710,
          1996,
          1842,
          3544,
          5345,
          5046,
          4713,
          4763,
          4785,
          3659,
          4760,
          4511,
          4274,
          4539,
          3641,
          4352,
          4795,
          2395,
          5423,
          5010,
          4630,
          4120,
          3907,
          4839,
          5202,
          2429,
          2918,
          3570,
          4456,
          4826,
          4765,
          4985,
          5409,
          5511,
          5117,
          4563,
          2416,
          2913,
          3644,
          5217,
          5041,
          4570,
          4748,
          2424,
          4195,
          4304,
          4308,
          4381,
          4187,
          4687,
          3894,
          2659,
          3747,
          627,
          3331,
          3669,
          4068,
          4186,
          3974,
          4046,
          3926,
          3649,
          4035,
          4205,
          4109,
          2933,
          3368,
          4067,
          3717,
          4486,
          4195,
          1817,
          3053,
          3392,
          3663,
          3520,
          2765,
          1607,
          2566,
          1495,
          2792,
          3068,
          3071,
          3867,
          2914,
          3613,
          3727,
          3940,
          3614,
          3485,
          3811,
          2594,
          705,
          3322,
          3620,
          3190,
          2743,
          3310,
          3523,
          3740,
          3709,
          3577,
          2739,
          2431,
          3403,
          3750,
          2660,
          3068,
          2209,
          1011,
          754,
          1317,
          1162,
          2302,
          2423,
          2999,
          2485,
          2294,
          1951,
          2236,
          2368,
          3272,
          4098,
          4521,
          3425,
          2376,
          3598,
          2177,
          4097,
          3214,
          2493,
          2311,
          2298,
          2935,
          3376,
          3292,
          3163,
          1301,
          1977,
          2432,
          4339,
          4270,
          4075,
          3456,
          4023,
          3243,
          3624,
          4509,
          4579,
          3761,
          4151,
          2832,
          2947,
          3784,
          4375,
          2802,
          3830,
          3831,
          2169,
          1529,
          3422,
          3922,
          4169,
          3005,
          4154,
          4318,
          2689,
          3129,
          3777,
          4773,
          5062,
          3487,
          2732,
          3389,
          4322,
          4363,
          4990,
          3194,
          4066,
          3423,
          3333,
          3956,
          4916,
          5382,
          4569,
          4118,
          4911,
          5298,
          5847,
          6312,
          6192,
          4378,
          7836,
          5892,
          6153,
          6093,
          6230,
          6871,
          8362,
          3372,
          4996,
          5558,
          5102,
          5698,
          6133,
          5459,
          6235,
          6041,
          5936,
          6772,
          6436,
          6457,
          6460,
          6857,
          5169,
          5585,
          5918,
          4862,
          5409,
          6398,
          7460,
          7132,
          6370,
          6691,
          4367,
          6565,
          7290,
          6624,
          1027,
          3214,
          5633,
          6196,
          5026,
          6233,
          4220,
          6304,
          5572,
          5740,
          6169,
          6421,
          6296,
          6883,
          6359,
          6273,
          5728,
          4717,
          6572,
          7030,
          7429,
          6118,
          2843,
          5115,
          7424,
          7384,
          7639,
          8294,
          7129,
          4359,
          6073,
          5260,
          6770,
          6734,
          6536,
          6591,
          6043,
          5743,
          6855,
          7338,
          4127,
          8120,
          7641,
          6998,
          7001,
          7055,
          7494,
          7736,
          7498,
          6598,
          6664,
          4972,
          7421,
          7363,
          7665,
          7702,
          6978,
          5099,
          6825,
          6211,
          5905,
          5823,
          7458,
          6891,
          6779,
          7442,
          7335,
          6879,
          5463,
          5687,
          5531,
          6227,
          6660,
          7403,
          6241,
          6207,
          4840,
          4672,
          6569,
          6290,
          7264,
          7446,
          7499,
          6969,
          6031,
          6830,
          6786,
          5713,
          6591,
          5870,
          4459,
          7410,
          6966,
          7592,
          8173,
          6861,
          6904,
          6685,
          6597,
          7105,
          7216,
          7580,
          7261,
          7175,
          6824,
          5464,
          7013,
          7273,
          7534,
          7286,
          5786,
          6299,
          6544,
          6883,
          6784,
          7347,
          7605,
          7148,
          7865,
          4549,
          6530,
          7006,
          7375,
          7765,
          7582,
          6053,
          5255,
          6917,
          7040,
          7697,
          7713,
          7350,
          6140,
          5810,
          6034,
          6864,
          7112,
          6203,
          7504,
          5976,
          8227,
          7525,
          7767,
          7870,
          7804,
          8009,
          8714,
          7333,
          6869,
          4073,
          7591,
          7720,
          8167,
          8395,
          7907,
          7436,
          7538,
          7733,
          7393,
          7415,
          8555,
          6889,
          6778,
          4639,
          7572,
          7328,
          8156,
          7965,
          3510,
          5478,
          6392,
          7691,
          7570,
          7282,
          7109,
          6639,
          5875,
          7534,
          7461,
          7509,
          5424,
          8090,
          6824,
          7058,
          7466,
          7693,
          7359,
          7444,
          7852,
          4459,
          22,
          1096,
          5566,
          5986,
          5847,
          5138,
          5107,
          5259,
          5686,
          5035,
          5315,
          5992,
          6536,
          6852,
          6269,
          4094,
          5495,
          5445,
          5698,
          5629,
          4669,
          5499,
          5634,
          5146,
          2425,
          3910,
          2277,
          2424,
          5087,
          3959,
          5260,
          5323,
          5668,
          5191,
          4649,
          6234,
          6606,
          5729,
          5375,
          5008,
          5582,
          3228,
          5170,
          5501,
          5319,
          5532,
          5611,
          5047,
          3786,
          4585,
          5557,
          5267,
          4128,
          3623,
          1749,
          1787,
          920,
          1013,
          441,
          2114,
          3095,
          1341,
          1796,
          2729
         ],
         "yaxis": "y"
        }
       ],
       "layout": {
        "barmode": "relative",
        "legend": {
         "tracegroupgap": 0
        },
        "margin": {
         "t": 60
        },
        "template": {
         "data": {
          "bar": [
           {
            "error_x": {
             "color": "#2a3f5f"
            },
            "error_y": {
             "color": "#2a3f5f"
            },
            "marker": {
             "line": {
              "color": "#E5ECF6",
              "width": 0.5
             },
             "pattern": {
              "fillmode": "overlay",
              "size": 10,
              "solidity": 0.2
             }
            },
            "type": "bar"
           }
          ],
          "barpolar": [
           {
            "marker": {
             "line": {
              "color": "#E5ECF6",
              "width": 0.5
             },
             "pattern": {
              "fillmode": "overlay",
              "size": 10,
              "solidity": 0.2
             }
            },
            "type": "barpolar"
           }
          ],
          "carpet": [
           {
            "aaxis": {
             "endlinecolor": "#2a3f5f",
             "gridcolor": "white",
             "linecolor": "white",
             "minorgridcolor": "white",
             "startlinecolor": "#2a3f5f"
            },
            "baxis": {
             "endlinecolor": "#2a3f5f",
             "gridcolor": "white",
             "linecolor": "white",
             "minorgridcolor": "white",
             "startlinecolor": "#2a3f5f"
            },
            "type": "carpet"
           }
          ],
          "choropleth": [
           {
            "colorbar": {
             "outlinewidth": 0,
             "ticks": ""
            },
            "type": "choropleth"
           }
          ],
          "contour": [
           {
            "colorbar": {
             "outlinewidth": 0,
             "ticks": ""
            },
            "colorscale": [
             [
              0,
              "#0d0887"
             ],
             [
              0.1111111111111111,
              "#46039f"
             ],
             [
              0.2222222222222222,
              "#7201a8"
             ],
             [
              0.3333333333333333,
              "#9c179e"
             ],
             [
              0.4444444444444444,
              "#bd3786"
             ],
             [
              0.5555555555555556,
              "#d8576b"
             ],
             [
              0.6666666666666666,
              "#ed7953"
             ],
             [
              0.7777777777777778,
              "#fb9f3a"
             ],
             [
              0.8888888888888888,
              "#fdca26"
             ],
             [
              1,
              "#f0f921"
             ]
            ],
            "type": "contour"
           }
          ],
          "contourcarpet": [
           {
            "colorbar": {
             "outlinewidth": 0,
             "ticks": ""
            },
            "type": "contourcarpet"
           }
          ],
          "heatmap": [
           {
            "colorbar": {
             "outlinewidth": 0,
             "ticks": ""
            },
            "colorscale": [
             [
              0,
              "#0d0887"
             ],
             [
              0.1111111111111111,
              "#46039f"
             ],
             [
              0.2222222222222222,
              "#7201a8"
             ],
             [
              0.3333333333333333,
              "#9c179e"
             ],
             [
              0.4444444444444444,
              "#bd3786"
             ],
             [
              0.5555555555555556,
              "#d8576b"
             ],
             [
              0.6666666666666666,
              "#ed7953"
             ],
             [
              0.7777777777777778,
              "#fb9f3a"
             ],
             [
              0.8888888888888888,
              "#fdca26"
             ],
             [
              1,
              "#f0f921"
             ]
            ],
            "type": "heatmap"
           }
          ],
          "heatmapgl": [
           {
            "colorbar": {
             "outlinewidth": 0,
             "ticks": ""
            },
            "colorscale": [
             [
              0,
              "#0d0887"
             ],
             [
              0.1111111111111111,
              "#46039f"
             ],
             [
              0.2222222222222222,
              "#7201a8"
             ],
             [
              0.3333333333333333,
              "#9c179e"
             ],
             [
              0.4444444444444444,
              "#bd3786"
             ],
             [
              0.5555555555555556,
              "#d8576b"
             ],
             [
              0.6666666666666666,
              "#ed7953"
             ],
             [
              0.7777777777777778,
              "#fb9f3a"
             ],
             [
              0.8888888888888888,
              "#fdca26"
             ],
             [
              1,
              "#f0f921"
             ]
            ],
            "type": "heatmapgl"
           }
          ],
          "histogram": [
           {
            "marker": {
             "pattern": {
              "fillmode": "overlay",
              "size": 10,
              "solidity": 0.2
             }
            },
            "type": "histogram"
           }
          ],
          "histogram2d": [
           {
            "colorbar": {
             "outlinewidth": 0,
             "ticks": ""
            },
            "colorscale": [
             [
              0,
              "#0d0887"
             ],
             [
              0.1111111111111111,
              "#46039f"
             ],
             [
              0.2222222222222222,
              "#7201a8"
             ],
             [
              0.3333333333333333,
              "#9c179e"
             ],
             [
              0.4444444444444444,
              "#bd3786"
             ],
             [
              0.5555555555555556,
              "#d8576b"
             ],
             [
              0.6666666666666666,
              "#ed7953"
             ],
             [
              0.7777777777777778,
              "#fb9f3a"
             ],
             [
              0.8888888888888888,
              "#fdca26"
             ],
             [
              1,
              "#f0f921"
             ]
            ],
            "type": "histogram2d"
           }
          ],
          "histogram2dcontour": [
           {
            "colorbar": {
             "outlinewidth": 0,
             "ticks": ""
            },
            "colorscale": [
             [
              0,
              "#0d0887"
             ],
             [
              0.1111111111111111,
              "#46039f"
             ],
             [
              0.2222222222222222,
              "#7201a8"
             ],
             [
              0.3333333333333333,
              "#9c179e"
             ],
             [
              0.4444444444444444,
              "#bd3786"
             ],
             [
              0.5555555555555556,
              "#d8576b"
             ],
             [
              0.6666666666666666,
              "#ed7953"
             ],
             [
              0.7777777777777778,
              "#fb9f3a"
             ],
             [
              0.8888888888888888,
              "#fdca26"
             ],
             [
              1,
              "#f0f921"
             ]
            ],
            "type": "histogram2dcontour"
           }
          ],
          "mesh3d": [
           {
            "colorbar": {
             "outlinewidth": 0,
             "ticks": ""
            },
            "type": "mesh3d"
           }
          ],
          "parcoords": [
           {
            "line": {
             "colorbar": {
              "outlinewidth": 0,
              "ticks": ""
             }
            },
            "type": "parcoords"
           }
          ],
          "pie": [
           {
            "automargin": true,
            "type": "pie"
           }
          ],
          "scatter": [
           {
            "fillpattern": {
             "fillmode": "overlay",
             "size": 10,
             "solidity": 0.2
            },
            "type": "scatter"
           }
          ],
          "scatter3d": [
           {
            "line": {
             "colorbar": {
              "outlinewidth": 0,
              "ticks": ""
             }
            },
            "marker": {
             "colorbar": {
              "outlinewidth": 0,
              "ticks": ""
             }
            },
            "type": "scatter3d"
           }
          ],
          "scattercarpet": [
           {
            "marker": {
             "colorbar": {
              "outlinewidth": 0,
              "ticks": ""
             }
            },
            "type": "scattercarpet"
           }
          ],
          "scattergeo": [
           {
            "marker": {
             "colorbar": {
              "outlinewidth": 0,
              "ticks": ""
             }
            },
            "type": "scattergeo"
           }
          ],
          "scattergl": [
           {
            "marker": {
             "colorbar": {
              "outlinewidth": 0,
              "ticks": ""
             }
            },
            "type": "scattergl"
           }
          ],
          "scattermapbox": [
           {
            "marker": {
             "colorbar": {
              "outlinewidth": 0,
              "ticks": ""
             }
            },
            "type": "scattermapbox"
           }
          ],
          "scatterpolar": [
           {
            "marker": {
             "colorbar": {
              "outlinewidth": 0,
              "ticks": ""
             }
            },
            "type": "scatterpolar"
           }
          ],
          "scatterpolargl": [
           {
            "marker": {
             "colorbar": {
              "outlinewidth": 0,
              "ticks": ""
             }
            },
            "type": "scatterpolargl"
           }
          ],
          "scatterternary": [
           {
            "marker": {
             "colorbar": {
              "outlinewidth": 0,
              "ticks": ""
             }
            },
            "type": "scatterternary"
           }
          ],
          "surface": [
           {
            "colorbar": {
             "outlinewidth": 0,
             "ticks": ""
            },
            "colorscale": [
             [
              0,
              "#0d0887"
             ],
             [
              0.1111111111111111,
              "#46039f"
             ],
             [
              0.2222222222222222,
              "#7201a8"
             ],
             [
              0.3333333333333333,
              "#9c179e"
             ],
             [
              0.4444444444444444,
              "#bd3786"
             ],
             [
              0.5555555555555556,
              "#d8576b"
             ],
             [
              0.6666666666666666,
              "#ed7953"
             ],
             [
              0.7777777777777778,
              "#fb9f3a"
             ],
             [
              0.8888888888888888,
              "#fdca26"
             ],
             [
              1,
              "#f0f921"
             ]
            ],
            "type": "surface"
           }
          ],
          "table": [
           {
            "cells": {
             "fill": {
              "color": "#EBF0F8"
             },
             "line": {
              "color": "white"
             }
            },
            "header": {
             "fill": {
              "color": "#C8D4E3"
             },
             "line": {
              "color": "white"
             }
            },
            "type": "table"
           }
          ]
         },
         "layout": {
          "annotationdefaults": {
           "arrowcolor": "#2a3f5f",
           "arrowhead": 0,
           "arrowwidth": 1
          },
          "autotypenumbers": "strict",
          "coloraxis": {
           "colorbar": {
            "outlinewidth": 0,
            "ticks": ""
           }
          },
          "colorscale": {
           "diverging": [
            [
             0,
             "#8e0152"
            ],
            [
             0.1,
             "#c51b7d"
            ],
            [
             0.2,
             "#de77ae"
            ],
            [
             0.3,
             "#f1b6da"
            ],
            [
             0.4,
             "#fde0ef"
            ],
            [
             0.5,
             "#f7f7f7"
            ],
            [
             0.6,
             "#e6f5d0"
            ],
            [
             0.7,
             "#b8e186"
            ],
            [
             0.8,
             "#7fbc41"
            ],
            [
             0.9,
             "#4d9221"
            ],
            [
             1,
             "#276419"
            ]
           ],
           "sequential": [
            [
             0,
             "#0d0887"
            ],
            [
             0.1111111111111111,
             "#46039f"
            ],
            [
             0.2222222222222222,
             "#7201a8"
            ],
            [
             0.3333333333333333,
             "#9c179e"
            ],
            [
             0.4444444444444444,
             "#bd3786"
            ],
            [
             0.5555555555555556,
             "#d8576b"
            ],
            [
             0.6666666666666666,
             "#ed7953"
            ],
            [
             0.7777777777777778,
             "#fb9f3a"
            ],
            [
             0.8888888888888888,
             "#fdca26"
            ],
            [
             1,
             "#f0f921"
            ]
           ],
           "sequentialminus": [
            [
             0,
             "#0d0887"
            ],
            [
             0.1111111111111111,
             "#46039f"
            ],
            [
             0.2222222222222222,
             "#7201a8"
            ],
            [
             0.3333333333333333,
             "#9c179e"
            ],
            [
             0.4444444444444444,
             "#bd3786"
            ],
            [
             0.5555555555555556,
             "#d8576b"
            ],
            [
             0.6666666666666666,
             "#ed7953"
            ],
            [
             0.7777777777777778,
             "#fb9f3a"
            ],
            [
             0.8888888888888888,
             "#fdca26"
            ],
            [
             1,
             "#f0f921"
            ]
           ]
          },
          "colorway": [
           "#636efa",
           "#EF553B",
           "#00cc96",
           "#ab63fa",
           "#FFA15A",
           "#19d3f3",
           "#FF6692",
           "#B6E880",
           "#FF97FF",
           "#FECB52"
          ],
          "font": {
           "color": "#2a3f5f"
          },
          "geo": {
           "bgcolor": "white",
           "lakecolor": "white",
           "landcolor": "#E5ECF6",
           "showlakes": true,
           "showland": true,
           "subunitcolor": "white"
          },
          "hoverlabel": {
           "align": "left"
          },
          "hovermode": "closest",
          "mapbox": {
           "style": "light"
          },
          "paper_bgcolor": "white",
          "plot_bgcolor": "#E5ECF6",
          "polar": {
           "angularaxis": {
            "gridcolor": "white",
            "linecolor": "white",
            "ticks": ""
           },
           "bgcolor": "#E5ECF6",
           "radialaxis": {
            "gridcolor": "white",
            "linecolor": "white",
            "ticks": ""
           }
          },
          "scene": {
           "xaxis": {
            "backgroundcolor": "#E5ECF6",
            "gridcolor": "white",
            "gridwidth": 2,
            "linecolor": "white",
            "showbackground": true,
            "ticks": "",
            "zerolinecolor": "white"
           },
           "yaxis": {
            "backgroundcolor": "#E5ECF6",
            "gridcolor": "white",
            "gridwidth": 2,
            "linecolor": "white",
            "showbackground": true,
            "ticks": "",
            "zerolinecolor": "white"
           },
           "zaxis": {
            "backgroundcolor": "#E5ECF6",
            "gridcolor": "white",
            "gridwidth": 2,
            "linecolor": "white",
            "showbackground": true,
            "ticks": "",
            "zerolinecolor": "white"
           }
          },
          "shapedefaults": {
           "line": {
            "color": "#2a3f5f"
           }
          },
          "ternary": {
           "aaxis": {
            "gridcolor": "white",
            "linecolor": "white",
            "ticks": ""
           },
           "baxis": {
            "gridcolor": "white",
            "linecolor": "white",
            "ticks": ""
           },
           "bgcolor": "#E5ECF6",
           "caxis": {
            "gridcolor": "white",
            "linecolor": "white",
            "ticks": ""
           }
          },
          "title": {
           "x": 0.05
          },
          "xaxis": {
           "automargin": true,
           "gridcolor": "white",
           "linecolor": "white",
           "ticks": "",
           "title": {
            "standoff": 15
           },
           "zerolinecolor": "white",
           "zerolinewidth": 2
          },
          "yaxis": {
           "automargin": true,
           "gridcolor": "white",
           "linecolor": "white",
           "ticks": "",
           "title": {
            "standoff": 15
           },
           "zerolinecolor": "white",
           "zerolinewidth": 2
          }
         }
        },
        "title": {
         "text": "Demand of bikes per days of week",
         "x": 0.5,
         "xanchor": "center",
         "y": 0.9,
         "yanchor": "top"
        },
        "xaxis": {
         "anchor": "y",
         "domain": [
          0,
          1
         ],
         "title": {
          "text": "weekday"
         }
        },
        "yaxis": {
         "anchor": "x",
         "domain": [
          0,
          1
         ],
         "title": {
          "text": "cnt"
         }
        }
       }
      }
     },
     "metadata": {},
     "output_type": "display_data"
    }
   ],
   "source": [
    "fig = px.bar(df, x='weekday', y='cnt')\n",
    "\n",
    "fig.update_layout(\n",
    "    title={\n",
    "        'text': \"Demand of bikes per days of week\",\n",
    "        'y':0.9,\n",
    "        'x':0.5,\n",
    "        'xanchor': 'center',\n",
    "        'yanchor': 'top'})\n",
    "\n",
    "fig.show()"
   ]
  },
  {
   "cell_type": "code",
   "execution_count": 13,
   "metadata": {},
   "outputs": [
    {
     "data": {
      "text/html": [
       "<div>\n",
       "<style scoped>\n",
       "    .dataframe tbody tr th:only-of-type {\n",
       "        vertical-align: middle;\n",
       "    }\n",
       "\n",
       "    .dataframe tbody tr th {\n",
       "        vertical-align: top;\n",
       "    }\n",
       "\n",
       "    .dataframe thead th {\n",
       "        text-align: right;\n",
       "    }\n",
       "</style>\n",
       "<table border=\"1\" class=\"dataframe\">\n",
       "  <thead>\n",
       "    <tr style=\"text-align: right;\">\n",
       "      <th></th>\n",
       "      <th>yr</th>\n",
       "      <th>holiday</th>\n",
       "      <th>workingday</th>\n",
       "      <th>temp</th>\n",
       "      <th>atemp</th>\n",
       "      <th>hum</th>\n",
       "      <th>windspeed</th>\n",
       "      <th>cnt</th>\n",
       "    </tr>\n",
       "  </thead>\n",
       "  <tbody>\n",
       "    <tr>\n",
       "      <th>count</th>\n",
       "      <td>730.000000</td>\n",
       "      <td>730.000000</td>\n",
       "      <td>730.000000</td>\n",
       "      <td>730.000000</td>\n",
       "      <td>730.000000</td>\n",
       "      <td>730.000000</td>\n",
       "      <td>730.000000</td>\n",
       "      <td>730.000000</td>\n",
       "    </tr>\n",
       "    <tr>\n",
       "      <th>mean</th>\n",
       "      <td>0.500000</td>\n",
       "      <td>0.028767</td>\n",
       "      <td>0.683562</td>\n",
       "      <td>20.319259</td>\n",
       "      <td>23.726322</td>\n",
       "      <td>62.765175</td>\n",
       "      <td>12.763620</td>\n",
       "      <td>4508.006849</td>\n",
       "    </tr>\n",
       "    <tr>\n",
       "      <th>std</th>\n",
       "      <td>0.500343</td>\n",
       "      <td>0.167266</td>\n",
       "      <td>0.465405</td>\n",
       "      <td>7.506729</td>\n",
       "      <td>8.150308</td>\n",
       "      <td>14.237589</td>\n",
       "      <td>5.195841</td>\n",
       "      <td>1936.011647</td>\n",
       "    </tr>\n",
       "    <tr>\n",
       "      <th>min</th>\n",
       "      <td>0.000000</td>\n",
       "      <td>0.000000</td>\n",
       "      <td>0.000000</td>\n",
       "      <td>2.424346</td>\n",
       "      <td>3.953480</td>\n",
       "      <td>0.000000</td>\n",
       "      <td>1.500244</td>\n",
       "      <td>22.000000</td>\n",
       "    </tr>\n",
       "    <tr>\n",
       "      <th>25%</th>\n",
       "      <td>0.000000</td>\n",
       "      <td>0.000000</td>\n",
       "      <td>0.000000</td>\n",
       "      <td>13.811885</td>\n",
       "      <td>16.889713</td>\n",
       "      <td>52.000000</td>\n",
       "      <td>9.041650</td>\n",
       "      <td>3169.750000</td>\n",
       "    </tr>\n",
       "    <tr>\n",
       "      <th>50%</th>\n",
       "      <td>0.500000</td>\n",
       "      <td>0.000000</td>\n",
       "      <td>1.000000</td>\n",
       "      <td>20.465826</td>\n",
       "      <td>24.368225</td>\n",
       "      <td>62.625000</td>\n",
       "      <td>12.125325</td>\n",
       "      <td>4548.500000</td>\n",
       "    </tr>\n",
       "    <tr>\n",
       "      <th>75%</th>\n",
       "      <td>1.000000</td>\n",
       "      <td>0.000000</td>\n",
       "      <td>1.000000</td>\n",
       "      <td>26.880615</td>\n",
       "      <td>30.445775</td>\n",
       "      <td>72.989575</td>\n",
       "      <td>15.625589</td>\n",
       "      <td>5966.000000</td>\n",
       "    </tr>\n",
       "    <tr>\n",
       "      <th>max</th>\n",
       "      <td>1.000000</td>\n",
       "      <td>1.000000</td>\n",
       "      <td>1.000000</td>\n",
       "      <td>35.328347</td>\n",
       "      <td>42.044800</td>\n",
       "      <td>97.250000</td>\n",
       "      <td>34.000021</td>\n",
       "      <td>8714.000000</td>\n",
       "    </tr>\n",
       "  </tbody>\n",
       "</table>\n",
       "</div>"
      ],
      "text/plain": [
       "               yr     holiday  workingday        temp       atemp         hum   \n",
       "count  730.000000  730.000000  730.000000  730.000000  730.000000  730.000000  \\\n",
       "mean     0.500000    0.028767    0.683562   20.319259   23.726322   62.765175   \n",
       "std      0.500343    0.167266    0.465405    7.506729    8.150308   14.237589   \n",
       "min      0.000000    0.000000    0.000000    2.424346    3.953480    0.000000   \n",
       "25%      0.000000    0.000000    0.000000   13.811885   16.889713   52.000000   \n",
       "50%      0.500000    0.000000    1.000000   20.465826   24.368225   62.625000   \n",
       "75%      1.000000    0.000000    1.000000   26.880615   30.445775   72.989575   \n",
       "max      1.000000    1.000000    1.000000   35.328347   42.044800   97.250000   \n",
       "\n",
       "        windspeed          cnt  \n",
       "count  730.000000   730.000000  \n",
       "mean    12.763620  4508.006849  \n",
       "std      5.195841  1936.011647  \n",
       "min      1.500244    22.000000  \n",
       "25%      9.041650  3169.750000  \n",
       "50%     12.125325  4548.500000  \n",
       "75%     15.625589  5966.000000  \n",
       "max     34.000021  8714.000000  "
      ]
     },
     "execution_count": 13,
     "metadata": {},
     "output_type": "execute_result"
    }
   ],
   "source": [
    "df.describe()"
   ]
  },
  {
   "cell_type": "code",
   "execution_count": 14,
   "metadata": {},
   "outputs": [
    {
     "data": {
      "text/plain": [
       "<Axes: >"
      ]
     },
     "execution_count": 14,
     "metadata": {},
     "output_type": "execute_result"
    },
    {
     "data": {
      "image/png": "[encoded data removed]",
      "text/plain": [
       "<Figure size 1500x1000 with 2 Axes>"
      ]
     },
     "metadata": {},
     "output_type": "display_data"
    }
   ],
   "source": [
    "corr_matrix = df.corr(numeric_only=True)\n",
    "plt.figure(figsize=(15,10))\n",
    "sns.heatmap(corr_matrix, annot = True, cmap=\"coolwarm\")"
   ]
  },
  {
   "cell_type": "code",
   "execution_count": 15,
   "metadata": {},
   "outputs": [
    {
     "data": {
      "text/plain": [
       "cnt           1.000000\n",
       "atemp         0.630685\n",
       "temp          0.627044\n",
       "yr            0.569728\n",
       "workingday    0.062542\n",
       "holiday      -0.068764\n",
       "hum          -0.098543\n",
       "windspeed    -0.235132\n",
       "Name: cnt, dtype: float64"
      ]
     },
     "execution_count": 15,
     "metadata": {},
     "output_type": "execute_result"
    }
   ],
   "source": [
    "corr_matrix[\"cnt\"].sort_values(ascending = False)"
   ]
  },
  {
   "cell_type": "code",
   "execution_count": 16,
   "metadata": {},
   "outputs": [],
   "source": [
    "class LinReg(BaseEstimator):\n",
    "    def __init__(self,\n",
    "                 learning_rate=0.01, \n",
    "                 max_iter=1000):\n",
    "        self.learning_rate = learning_rate\n",
    "        self.max_iter = max_iter\n",
    "\n",
    "    def add_intercept(self, X):\n",
    "        m = X.shape[0]\n",
    "        ones = np.ones((m, 1))\n",
    "        X_new = np.column_stack((ones, X))\n",
    "        return X_new\n",
    "\n",
    "    def hypothesis(self, X, theta):\n",
    "        return np.dot(X, theta)\n",
    "    \n",
    "    def cost_function(self, X, y, theta):\n",
    "        m = X.shape[0]\n",
    "\n",
    "        if m == 0:\n",
    "            return None\n",
    "        \n",
    "        return (1 / (2 * m)) * sum(np.power(self.hypothesis(X, theta) - y, 2))\n",
    "\n",
    "    def gradient(self, X, y, theta):\n",
    "        m = X.shape[0]\n",
    "\n",
    "        return (1 / m) * np.dot(X.T, self.hypothesis(X, theta) - y)\n",
    "\n",
    "    def gradient_descent(self, X, y, theta):\n",
    "        costs = []\n",
    "        J = self.cost_function(X, y, theta)\n",
    "        costs.append(J)\n",
    "        \n",
    "        for i in range(1, self.max_iter + 1):\n",
    "            theta -= self.learning_rate * self.gradient(X, y, theta)\n",
    "            cost = self.cost_function(X, y, theta)\n",
    "            costs.append(cost)\n",
    "\n",
    "        return theta, costs\n",
    "    \n",
    "    def fit(self, X, y):\n",
    "        X_new = self.add_intercept(X)\n",
    "        self.theta = np.zeros(X_new.shape[1])\n",
    "        self.theta, self.costs = self.gradient_descent(X_new, y, self.theta)\n",
    "\n",
    "    def predict(self, X):\n",
    "        X_new = self.add_intercept(X)\n",
    "        y_pred = self.hypothesis(X_new, self.theta)\n",
    "        \n",
    "        return y_pred"
   ]
  },
  {
   "cell_type": "code",
   "execution_count": 17,
   "metadata": {},
   "outputs": [
    {
     "name": "stdout",
     "output_type": "stream",
     "text": [
      "X=(730, 11), y=(730, 1)\n",
      "X_train=(584, 11), y_train=(584, 1)\n",
      "X_test(146, 11), y_test=(146, 1)\n"
     ]
    }
   ],
   "source": [
    "X, y = df.drop(\"cnt\", axis=1), df[[\"cnt\"]]\n",
    "print('X={}, y={}'.format(X.shape, y.shape))\n",
    "X_train, X_test, y_train, y_test = train_test_split(X, y, test_size=0.2, random_state=42)\n",
    "print('X_train={}, y_train={}'.format(X_train.shape, y_train.shape))\n",
    "print('X_test{}, y_test={}'.format(X_test.shape, y_test.shape))"
   ]
  },
  {
   "cell_type": "code",
   "execution_count": 18,
   "metadata": {},
   "outputs": [
    {
     "name": "stdout",
     "output_type": "stream",
     "text": [
      "X_train_t=(584, 36), y_train=(584, 1)\n",
      "X_test_t(146, 36), y_test=(146, 1)\n"
     ]
    }
   ],
   "source": [
    "num_pip = Pipeline([\n",
    "    ('scaler', StandardScaler())\n",
    "])\n",
    "\n",
    "cat_pip = Pipeline([\n",
    "    ('encoder', OneHotEncoder(categories='auto'))\n",
    "])\n",
    "\n",
    "preprocessor = ColumnTransformer([\n",
    "    ('num', num_pip, num_cols),\n",
    "    ('cat', cat_pip, cat_cols)\n",
    "])\n",
    "\n",
    "X_train_t = preprocessor.fit_transform(X_train)\n",
    "X_test_t = preprocessor.fit_transform(X_test)\n",
    "\n",
    "print('X_train_t={}, y_train={}'.format(X_train_t.shape, y_train.shape))\n",
    "print('X_test_t{}, y_test={}'.format(X_test_t.shape, y_test.shape))"
   ]
  },
  {
   "cell_type": "code",
   "execution_count": 19,
   "metadata": {},
   "outputs": [],
   "source": [
    "lin_reg = LinReg()\n",
    "lin_reg_1 = LinearRegression()\n",
    "lin_reg_2 = SGDRegressor()\n",
    "lin_reg_3 = Ridge()"
   ]
  },
  {
   "cell_type": "code",
   "execution_count": 20,
   "metadata": {},
   "outputs": [],
   "source": [
    "y_train = np.reshape(y_train.to_numpy(), (y_train.shape[0],))\n",
    "y_test = np.reshape(y_test.to_numpy(), (y_test.shape[0],))"
   ]
  },
  {
   "cell_type": "code",
   "execution_count": 21,
   "metadata": {},
   "outputs": [],
   "source": [
    "def evaluate_metrics(y_actual, y_predicted):\n",
    "    return mean_squared_error(y_actual, y_predicted, squared=False), mean_absolute_error(y_actual, y_predicted), r2_score(y_actual, y_predicted)"
   ]
  },
  {
   "cell_type": "code",
   "execution_count": 22,
   "metadata": {},
   "outputs": [],
   "source": [
    "def write_metrics(regressors):\n",
    "    \n",
    "    results_df = pd.DataFrame(columns=[\"mean_squared_error\", \"mean_absolute_error\", \"r2_score\"])\n",
    "\n",
    "    for name, regressor in regressors:\n",
    "        regressor.fit(X_train_t, y_train)\n",
    "        \n",
    "        y_train_pred = regressor.predict(X_train_t)\n",
    "        y_test_pred = regressor.predict(X_test_t)\n",
    "        \n",
    "        train_metrics = evaluate_metrics(y_train, y_train_pred)\n",
    "        test_metrics = evaluate_metrics(y_test, y_test_pred)\n",
    "        \n",
    "        results_df.loc[name, \"mean_squared_error\"] = (train_metrics[0], test_metrics[0])\n",
    "        results_df.loc[name, \"mean_absolute_error\"] = (train_metrics[1], test_metrics[1])\n",
    "        results_df.loc[name, \"r2_score\"] = (train_metrics[2], test_metrics[2])\n",
    "\n",
    "    return results_df"
   ]
  },
  {
   "cell_type": "code",
   "execution_count": 23,
   "metadata": {},
   "outputs": [
    {
     "data": {
      "text/html": [
       "<div>\n",
       "<style scoped>\n",
       "    .dataframe tbody tr th:only-of-type {\n",
       "        vertical-align: middle;\n",
       "    }\n",
       "\n",
       "    .dataframe tbody tr th {\n",
       "        vertical-align: top;\n",
       "    }\n",
       "\n",
       "    .dataframe thead th {\n",
       "        text-align: right;\n",
       "    }\n",
       "</style>\n",
       "<table border=\"1\" class=\"dataframe\">\n",
       "  <thead>\n",
       "    <tr style=\"text-align: right;\">\n",
       "      <th></th>\n",
       "      <th>mean_squared_error</th>\n",
       "      <th>mean_absolute_error</th>\n",
       "      <th>r2_score</th>\n",
       "    </tr>\n",
       "  </thead>\n",
       "  <tbody>\n",
       "    <tr>\n",
       "      <th>LinReg</th>\n",
       "      <td>(803.6843379394496, 651.5204133259349)</td>\n",
       "      <td>(586.7951193349705, 487.56783253828536)</td>\n",
       "      <td>(0.8307231221886551, 0.8759864308850528)</td>\n",
       "    </tr>\n",
       "    <tr>\n",
       "      <th>LinearRegression</th>\n",
       "      <td>(772.4699895109441, 681.9318392327217)</td>\n",
       "      <td>(562.1538340115935, 503.9431539919648)</td>\n",
       "      <td>(0.8436168839906777, 0.8641389121398486)</td>\n",
       "    </tr>\n",
       "    <tr>\n",
       "      <th>SGDRegressor</th>\n",
       "      <td>(780.3106380794376, 657.0633946236321)</td>\n",
       "      <td>(571.0940453797296, 495.0373188331842)</td>\n",
       "      <td>(0.8404261637825011, 0.8738672984093101)</td>\n",
       "    </tr>\n",
       "    <tr>\n",
       "      <th>Ridge</th>\n",
       "      <td>(772.7107010786953, 677.7093341278525)</td>\n",
       "      <td>(562.6059870285727, 502.2356063364943)</td>\n",
       "      <td>(0.8435194068314565, 0.8658162001504587)</td>\n",
       "    </tr>\n",
       "  </tbody>\n",
       "</table>\n",
       "</div>"
      ],
      "text/plain": [
       "                                      mean_squared_error   \n",
       "LinReg            (803.6843379394496, 651.5204133259349)  \\\n",
       "LinearRegression  (772.4699895109441, 681.9318392327217)   \n",
       "SGDRegressor      (780.3106380794376, 657.0633946236321)   \n",
       "Ridge             (772.7107010786953, 677.7093341278525)   \n",
       "\n",
       "                                      mean_absolute_error   \n",
       "LinReg            (586.7951193349705, 487.56783253828536)  \\\n",
       "LinearRegression   (562.1538340115935, 503.9431539919648)   \n",
       "SGDRegressor       (571.0940453797296, 495.0373188331842)   \n",
       "Ridge              (562.6059870285727, 502.2356063364943)   \n",
       "\n",
       "                                                  r2_score  \n",
       "LinReg            (0.8307231221886551, 0.8759864308850528)  \n",
       "LinearRegression  (0.8436168839906777, 0.8641389121398486)  \n",
       "SGDRegressor      (0.8404261637825011, 0.8738672984093101)  \n",
       "Ridge             (0.8435194068314565, 0.8658162001504587)  "
      ]
     },
     "execution_count": 23,
     "metadata": {},
     "output_type": "execute_result"
    }
   ],
   "source": [
    "regressors = [(\"LinReg\", lin_reg), (\"LinearRegression\", lin_reg_1), (\"SGDRegressor\", lin_reg_2), (\"Ridge\", lin_reg_3)]\n",
    "results_df = write_metrics(regressors)\n",
    "results_df"
   ]
  },
  {
   "cell_type": "code",
   "execution_count": 24,
   "metadata": {},
   "outputs": [],
   "source": [
    "linreg_params = {\n",
    "    'learning_rate': uniform(0.001, 0.5),\n",
    "    'max_iter': [1000, 5000, 10000]\n",
    "}\n",
    "\n",
    "sgdreg_params = {\n",
    "    'eta0': uniform(0, 0.1),\n",
    "    'max_iter': range(100, 10001, 100),\n",
    "    'tol': uniform(0, 0.1)\n",
    "}\n",
    "\n",
    "ridge_params = {\n",
    "    'alpha': uniform(0, 100),\n",
    "    'max_iter': [1000, 5000, 10000],\n",
    "    'tol': uniform(0, 0.1)\n",
    "}\n",
    "\n",
    "linreg_search = RandomizedSearchCV(LinReg(), linreg_params, n_iter=10, cv=5, scoring='neg_mean_squared_error')\n",
    "sgdreg_search = RandomizedSearchCV(SGDRegressor(), sgdreg_params, n_iter=10, cv=5)\n",
    "ridge_search = RandomizedSearchCV(Ridge(), ridge_params, n_iter=10, cv=5)"
   ]
  },
  {
   "cell_type": "code",
   "execution_count": 25,
   "metadata": {},
   "outputs": [
    {
     "name": "stdout",
     "output_type": "stream",
     "text": [
      "LinReg(learning_rate=0.1657671936995948)\n",
      "SGDRegressor(eta0=0.021754027954560374, max_iter=3400, tol=0.0529860098535607)\n",
      "Ridge(alpha=4.098444846498661, max_iter=5000, tol=0.07679697424307963)\n"
     ]
    }
   ],
   "source": [
    "linreg_search.fit(X_train_t, y_train)\n",
    "sgdreg_search.fit(X_train_t, y_train)\n",
    "ridge_search.fit(X_train_t, y_train)\n",
    "\n",
    "best_linreg = linreg_search.best_estimator_\n",
    "best_sgdreg = sgdreg_search.best_estimator_\n",
    "best_ridge = ridge_search.best_estimator_\n",
    "\n",
    "print(linreg_search.best_estimator_)\n",
    "print(sgdreg_search.best_estimator_)\n",
    "print(ridge_search.best_estimator_)"
   ]
  },
  {
   "cell_type": "code",
   "execution_count": 26,
   "metadata": {},
   "outputs": [
    {
     "data": {
      "text/html": [
       "<div>\n",
       "<style scoped>\n",
       "    .dataframe tbody tr th:only-of-type {\n",
       "        vertical-align: middle;\n",
       "    }\n",
       "\n",
       "    .dataframe tbody tr th {\n",
       "        vertical-align: top;\n",
       "    }\n",
       "\n",
       "    .dataframe thead th {\n",
       "        text-align: right;\n",
       "    }\n",
       "</style>\n",
       "<table border=\"1\" class=\"dataframe\">\n",
       "  <thead>\n",
       "    <tr style=\"text-align: right;\">\n",
       "      <th></th>\n",
       "      <th>mean_squared_error</th>\n",
       "      <th>mean_absolute_error</th>\n",
       "      <th>r2_score</th>\n",
       "    </tr>\n",
       "  </thead>\n",
       "  <tbody>\n",
       "    <tr>\n",
       "      <th>LinReg</th>\n",
       "      <td>(772.6339833280305, 680.8456919428211)</td>\n",
       "      <td>(562.2059395328117, 503.28525210087247)</td>\n",
       "      <td>(0.8435504773036787, 0.8645713531160956)</td>\n",
       "    </tr>\n",
       "    <tr>\n",
       "      <th>LinearRegression</th>\n",
       "      <td>(772.4699895109441, 681.9318392327217)</td>\n",
       "      <td>(562.1538340115935, 503.9431539919648)</td>\n",
       "      <td>(0.8436168839906777, 0.8641389121398486)</td>\n",
       "    </tr>\n",
       "    <tr>\n",
       "      <th>SGDRegressor</th>\n",
       "      <td>(778.151649966131, 664.0784590191846)</td>\n",
       "      <td>(564.0798912864448, 492.70168882726335)</td>\n",
       "      <td>(0.84130797004564, 0.8711596375633404)</td>\n",
       "    </tr>\n",
       "    <tr>\n",
       "      <th>Ridge</th>\n",
       "      <td>(775.227008429803, 669.3378996277766)</td>\n",
       "      <td>(566.3229507926262, 498.7811553230763)</td>\n",
       "      <td>(0.8424985994614529, 0.8691107483040085)</td>\n",
       "    </tr>\n",
       "  </tbody>\n",
       "</table>\n",
       "</div>"
      ],
      "text/plain": [
       "                                      mean_squared_error   \n",
       "LinReg            (772.6339833280305, 680.8456919428211)  \\\n",
       "LinearRegression  (772.4699895109441, 681.9318392327217)   \n",
       "SGDRegressor       (778.151649966131, 664.0784590191846)   \n",
       "Ridge              (775.227008429803, 669.3378996277766)   \n",
       "\n",
       "                                      mean_absolute_error   \n",
       "LinReg            (562.2059395328117, 503.28525210087247)  \\\n",
       "LinearRegression   (562.1538340115935, 503.9431539919648)   \n",
       "SGDRegressor      (564.0798912864448, 492.70168882726335)   \n",
       "Ridge              (566.3229507926262, 498.7811553230763)   \n",
       "\n",
       "                                                  r2_score  \n",
       "LinReg            (0.8435504773036787, 0.8645713531160956)  \n",
       "LinearRegression  (0.8436168839906777, 0.8641389121398486)  \n",
       "SGDRegressor        (0.84130797004564, 0.8711596375633404)  \n",
       "Ridge             (0.8424985994614529, 0.8691107483040085)  "
      ]
     },
     "execution_count": 26,
     "metadata": {},
     "output_type": "execute_result"
    }
   ],
   "source": [
    "lin_reg = LinReg(learning_rate=linreg_search.best_params_['learning_rate'],\n",
    "                  max_iter=linreg_search.best_params_['max_iter'])\n",
    "lin_reg_1 = LinearRegression()\n",
    "lin_reg_2 = SGDRegressor(eta0=sgdreg_search.best_params_['eta0'],\n",
    "                         max_iter=sgdreg_search.best_params_['max_iter'],\n",
    "                         tol=sgdreg_search.best_params_['tol'])\n",
    "lin_reg_3 = Ridge(alpha=ridge_search.best_params_['alpha'],\n",
    "                  max_iter=ridge_search.best_params_['max_iter'],\n",
    "                  tol=ridge_search.best_params_['tol'])\n",
    "\n",
    "regressors = [(\"LinReg\", lin_reg), (\"LinearRegression\", lin_reg_1), (\"SGDRegressor\", lin_reg_2), (\"Ridge\", lin_reg_3)]\n",
    "\n",
    "results_df = write_metrics(regressors)\n",
    "results_df"
   ]
  },
  {
   "cell_type": "code",
   "execution_count": 27,
   "metadata": {},
   "outputs": [],
   "source": [
    "def plot_results(y_train_pred, y_train, y_test_pred, y_test):\n",
    "    plt.scatter(y_train_pred, y_train_pred - y_train,\n",
    "            c='steelblue', marker='o', edgecolor='white',\n",
    "            label='Training data')\n",
    "\n",
    "    plt.scatter(y_test_pred, y_test_pred - y_test,\n",
    "                c='limegreen', marker='s', edgecolor='white',\n",
    "                label='Test data')\n",
    "\n",
    "    plt.xlabel('Predicted values')\n",
    "    plt.ylabel('Residuals')\n",
    "    plt.legend(loc='upper left')\n",
    "    plt.hlines(y=0, xmin=0, xmax=20000, color='black')\n",
    "    plt.tight_layout()\n",
    "    plt.show()"
   ]
  },
  {
   "cell_type": "code",
   "execution_count": 28,
   "metadata": {},
   "outputs": [
    {
     "data": {
      "image/png": "[encoded data removed]",
      "text/plain": [
       "<Figure size 640x480 with 1 Axes>"
      ]
     },
     "metadata": {},
     "output_type": "display_data"
    }
   ],
   "source": [
    "lin_reg.fit(X_train_t, y_train)\n",
    "y_train_pred = lin_reg.predict(X_train_t)\n",
    "y_test_pred = lin_reg.predict(X_test_t)\n",
    "plot_results(y_train_pred, y_train, y_test_pred, y_test)"
   ]
  },
  {
   "cell_type": "code",
   "execution_count": 29,
   "metadata": {},
   "outputs": [
    {
     "name": "stdout",
     "output_type": "stream",
     "text": [
      "Feature importance for LinReg\n",
      "Top 5 features\n",
      "(1532.968049793745, 'yr_1')\n",
      "(1207.9815526351576, 'weathersit_clear')\n",
      "(1006.0869629739408, 'season_winter')\n",
      "(807.9576104777507, 'holiday_0')\n",
      "(773.3055671428564, 'weathersit_misty')\n",
      "\n",
      "Bottom 5 features\n",
      "(-884.8620868761594, 'weathersit_light_snowrain')\n",
      "(-669.8369493257471, 'season_spring')\n",
      "(-436.5430168918905, 'yr_0')\n",
      "(-366.1775287338478, 'mnth_nov')\n",
      "(-275.9636639476728, 'mnth_dec')\n"
     ]
    }
   ],
   "source": [
    "feature_inportances = lin_reg.theta\n",
    "cat_features = []\n",
    "cat_encoder = preprocessor.named_transformers_[\"cat\"]\n",
    "\n",
    "for idx, column in enumerate(cat_cols):\n",
    "    cat_features.extend([column+'_'+str(val) for val in cat_encoder.named_steps['encoder'].categories_[idx]])\n",
    "\n",
    "attributes = num_cols + cat_features\n",
    "importance = sorted(zip(feature_inportances[1:], attributes), reverse=True)\n",
    "\n",
    "print(\"Feature importance for LinReg\")\n",
    "print(\"Top 5 features\")\n",
    "for i in range(5):\n",
    "    print(importance[i])\n",
    "print()\n",
    "print(\"Bottom 5 features\")\n",
    "for i in range(1, 6):\n",
    "    print(importance[-i])"
   ]
  },
  {
   "cell_type": "code",
   "execution_count": 30,
   "metadata": {},
   "outputs": [
    {
     "name": "stdout",
     "output_type": "stream",
     "text": [
      "Feature importance for LinearRegression (sklearn)\n",
      "Top 5 features\n",
      "(985.3513238026751, 'yr_1')\n",
      "(845.4786338893208, 'weathersit_clear')\n",
      "(794.3083716025255, 'season_winter')\n",
      "(606.5499623888893, 'mnth_sep')\n",
      "(462.18817071542156, 'temp')\n",
      "\n",
      "Bottom 5 features\n",
      "(-1253.3367415840498, 'weathersit_light_snowrain')\n",
      "(-985.3513238026765, 'yr_0')\n",
      "(-964.3742793493827, 'season_spring')\n",
      "(-531.9226363640128, 'mnth_nov')\n",
      "(-412.14031486257284, 'mnth_dec')\n"
     ]
    }
   ],
   "source": [
    "lin_reg_1.fit(X_train_t, y_train)\n",
    "feature_inportances = lin_reg_1.coef_\n",
    "importance = sorted(zip(feature_inportances, attributes), reverse=True)\n",
    "print(\"Feature importance for LinearRegression (sklearn)\")\n",
    "print(\"Top 5 features\")\n",
    "for i in range(5):\n",
    "    print(importance[i])\n",
    "print()\n",
    "print(\"Bottom 5 features\")\n",
    "for i in range(1, 6):\n",
    "    print(importance[-i])"
   ]
  }
 ],
 "metadata": {
  "kernelspec": {
   "display_name": "Python 3",
   "language": "python",
   "name": "python3"
  },
  "language_info": {
   "codemirror_mode": {
    "name": "ipython",
    "version": 3
   },
   "file_extension": ".py",
   "mimetype": "text/x-python",
   "name": "python",
   "nbconvert_exporter": "python",
   "pygments_lexer": "ipython3",
   "version": "3.11.3"
  },
  "orig_nbformat": 4
 },
 "nbformat": 4,
 "nbformat_minor": 2
}
